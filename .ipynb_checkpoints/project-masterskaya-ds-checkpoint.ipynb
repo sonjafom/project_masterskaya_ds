{
 "cells": [
  {
   "cell_type": "markdown",
   "id": "f6a948b8",
   "metadata": {
    "papermill": {
     "duration": 0.01675,
     "end_time": "2023-10-11T18:16:27.606836",
     "exception": false,
     "start_time": "2023-10-11T18:16:27.590086",
     "status": "completed"
    },
    "tags": []
   },
   "source": [
    "**Проект \"Предсказание музыкальных жанров\"**\n",
    "\n",
    "*Описание задачи*\n",
    "\n",
    "Вы сотрудник Отдела Data Science популярного музыкального стримингового сервиса \"МиФаСоль\". Сервис расширяет работу с новыми артистами и музыкантами, в связи с чем возникла задача -- правильно классифицировать новые музыкальные треки, чтобы улучшить работу рекомендательной системы. Ваши коллеги из отдела работы со звуком подготовили датасет, в котором собраны некоторые характеристики музыкальных произведений и их жанры. Ваша задача -- разработать модель, позволяющую классифицировать музыкальные произведения по жанрам.\n"
   ]
  },
  {
   "cell_type": "markdown",
   "id": "5ef972f3",
   "metadata": {
    "papermill": {
     "duration": 0.015309,
     "end_time": "2023-10-11T18:16:27.638323",
     "exception": false,
     "start_time": "2023-10-11T18:16:27.623014",
     "status": "completed"
    },
    "tags": []
   },
   "source": [
    "Для начала загрузим данные и изучим их."
   ]
  },
  {
   "cell_type": "code",
   "execution_count": 1,
   "id": "ae8761f5",
   "metadata": {
    "_cell_guid": "b1076dfc-b9ad-4769-8c92-a6c4dae69d19",
    "_uuid": "8f2839f25d086af736a60e9eeb907d3b93b6e0e5",
    "execution": {
     "iopub.execute_input": "2023-10-11T18:16:27.672747Z",
     "iopub.status.busy": "2023-10-11T18:16:27.672093Z",
     "iopub.status.idle": "2023-10-11T18:16:28.053552Z",
     "shell.execute_reply": "2023-10-11T18:16:28.052231Z"
    },
    "papermill": {
     "duration": 0.40042,
     "end_time": "2023-10-11T18:16:28.055628",
     "exception": false,
     "start_time": "2023-10-11T18:16:27.655208",
     "status": "completed"
    },
    "tags": []
   },
   "outputs": [],
   "source": [
    "import numpy as np # linear algebra\n",
    "import pandas as pd # data processing, CSV file I/O (e.g. pd.read_csv)\n",
    "\n",
    "import os\n",
    "for dirname, _, filenames in os.walk('/kaggle/input'):\n",
    "    for filename in filenames:\n",
    "        print(os.path.join(dirname, filename))"
   ]
  },
  {
   "cell_type": "code",
   "execution_count": 2,
   "id": "373a0080",
   "metadata": {
    "execution": {
     "iopub.execute_input": "2023-10-11T18:16:28.089384Z",
     "iopub.status.busy": "2023-10-11T18:16:28.088713Z",
     "iopub.status.idle": "2023-10-11T18:16:28.092373Z",
     "shell.execute_reply": "2023-10-11T18:16:28.091719Z"
    },
    "papermill": {
     "duration": 0.022545,
     "end_time": "2023-10-11T18:16:28.094238",
     "exception": false,
     "start_time": "2023-10-11T18:16:28.071693",
     "status": "completed"
    },
    "tags": []
   },
   "outputs": [],
   "source": [
    "import warnings \n",
    "warnings.simplefilter(action='ignore', category=FutureWarning) "
   ]
  },
  {
   "cell_type": "code",
   "execution_count": 3,
   "id": "2c4c659a",
   "metadata": {
    "execution": {
     "iopub.execute_input": "2023-10-11T18:16:28.128400Z",
     "iopub.status.busy": "2023-10-11T18:16:28.128017Z",
     "iopub.status.idle": "2023-10-11T18:16:28.132431Z",
     "shell.execute_reply": "2023-10-11T18:16:28.131504Z"
    },
    "papermill": {
     "duration": 0.024061,
     "end_time": "2023-10-11T18:16:28.134352",
     "exception": false,
     "start_time": "2023-10-11T18:16:28.110291",
     "status": "completed"
    },
    "tags": []
   },
   "outputs": [],
   "source": [
    "import warnings\n",
    "warnings.filterwarnings(\"ignore\")"
   ]
  },
  {
   "cell_type": "code",
   "execution_count": 4,
   "id": "c5f0ba5c",
   "metadata": {
    "execution": {
     "iopub.execute_input": "2023-10-11T18:16:28.224036Z",
     "iopub.status.busy": "2023-10-11T18:16:28.223488Z",
     "iopub.status.idle": "2023-10-11T18:16:59.458297Z",
     "shell.execute_reply": "2023-10-11T18:16:59.456856Z"
    },
    "papermill": {
     "duration": 31.310718,
     "end_time": "2023-10-11T18:16:59.460965",
     "exception": false,
     "start_time": "2023-10-11T18:16:28.150247",
     "status": "completed"
    },
    "tags": []
   },
   "outputs": [
    {
     "name": "stdout",
     "output_type": "stream",
     "text": [
      "Collecting catboost\n",
      "  Downloading catboost-1.2.2-cp39-cp39-win_amd64.whl (101.0 MB)\n",
      "     -------------------------------------- 101.0/101.0 MB 6.4 MB/s eta 0:00:00\n",
      "Requirement already satisfied: scipy in c:\\users\\polina\\anaconda3\\lib\\site-packages (from catboost) (1.9.1)\n",
      "Requirement already satisfied: pandas>=0.24 in c:\\users\\polina\\anaconda3\\lib\\site-packages (from catboost) (1.4.4)\n",
      "Collecting graphviz\n",
      "  Downloading graphviz-0.20.1-py3-none-any.whl (47 kB)\n",
      "     ---------------------------------------- 47.0/47.0 kB ? eta 0:00:00\n",
      "Requirement already satisfied: six in c:\\users\\polina\\anaconda3\\lib\\site-packages (from catboost) (1.16.0)\n",
      "Requirement already satisfied: plotly in c:\\users\\polina\\anaconda3\\lib\\site-packages (from catboost) (5.9.0)\n",
      "Requirement already satisfied: numpy>=1.16.0 in c:\\users\\polina\\anaconda3\\lib\\site-packages (from catboost) (1.21.5)\n",
      "Requirement already satisfied: matplotlib in c:\\users\\polina\\anaconda3\\lib\\site-packages (from catboost) (3.5.2)\n",
      "Requirement already satisfied: python-dateutil>=2.8.1 in c:\\users\\polina\\anaconda3\\lib\\site-packages (from pandas>=0.24->catboost) (2.8.2)\n",
      "Requirement already satisfied: pytz>=2020.1 in c:\\users\\polina\\anaconda3\\lib\\site-packages (from pandas>=0.24->catboost) (2022.1)\n",
      "Requirement already satisfied: cycler>=0.10 in c:\\users\\polina\\anaconda3\\lib\\site-packages (from matplotlib->catboost) (0.11.0)\n",
      "Requirement already satisfied: fonttools>=4.22.0 in c:\\users\\polina\\anaconda3\\lib\\site-packages (from matplotlib->catboost) (4.25.0)\n",
      "Requirement already satisfied: pillow>=6.2.0 in c:\\users\\polina\\anaconda3\\lib\\site-packages (from matplotlib->catboost) (9.2.0)\n",
      "Requirement already satisfied: packaging>=20.0 in c:\\users\\polina\\anaconda3\\lib\\site-packages (from matplotlib->catboost) (21.3)\n",
      "Requirement already satisfied: pyparsing>=2.2.1 in c:\\users\\polina\\anaconda3\\lib\\site-packages (from matplotlib->catboost) (3.0.9)\n",
      "Requirement already satisfied: kiwisolver>=1.0.1 in c:\\users\\polina\\anaconda3\\lib\\site-packages (from matplotlib->catboost) (1.4.2)\n",
      "Requirement already satisfied: tenacity>=6.2.0 in c:\\users\\polina\\anaconda3\\lib\\site-packages (from plotly->catboost) (8.0.1)\n",
      "Installing collected packages: graphviz, catboost\n",
      "Successfully installed catboost-1.2.2 graphviz-0.20.1\n",
      "Collecting feature-engine\n",
      "  Downloading feature_engine-1.6.2-py2.py3-none-any.whl (328 kB)\n",
      "     -------------------------------------- 328.9/328.9 kB 2.3 MB/s eta 0:00:00\n",
      "Requirement already satisfied: scipy>=1.4.1 in c:\\users\\polina\\anaconda3\\lib\\site-packages (from feature-engine) (1.9.1)\n",
      "Requirement already satisfied: scikit-learn>=1.0.0 in c:\\users\\polina\\anaconda3\\lib\\site-packages (from feature-engine) (1.0.2)\n",
      "Requirement already satisfied: pandas>=1.0.3 in c:\\users\\polina\\anaconda3\\lib\\site-packages (from feature-engine) (1.4.4)\n",
      "Requirement already satisfied: statsmodels>=0.11.1 in c:\\users\\polina\\anaconda3\\lib\\site-packages (from feature-engine) (0.13.2)\n",
      "Requirement already satisfied: numpy>=1.18.2 in c:\\users\\polina\\anaconda3\\lib\\site-packages (from feature-engine) (1.21.5)\n",
      "Requirement already satisfied: python-dateutil>=2.8.1 in c:\\users\\polina\\anaconda3\\lib\\site-packages (from pandas>=1.0.3->feature-engine) (2.8.2)\n",
      "Requirement already satisfied: pytz>=2020.1 in c:\\users\\polina\\anaconda3\\lib\\site-packages (from pandas>=1.0.3->feature-engine) (2022.1)\n",
      "Requirement already satisfied: threadpoolctl>=2.0.0 in c:\\users\\polina\\anaconda3\\lib\\site-packages (from scikit-learn>=1.0.0->feature-engine) (2.2.0)\n",
      "Requirement already satisfied: joblib>=0.11 in c:\\users\\polina\\anaconda3\\lib\\site-packages (from scikit-learn>=1.0.0->feature-engine) (1.3.2)\n",
      "Requirement already satisfied: patsy>=0.5.2 in c:\\users\\polina\\anaconda3\\lib\\site-packages (from statsmodels>=0.11.1->feature-engine) (0.5.2)\n",
      "Requirement already satisfied: packaging>=21.3 in c:\\users\\polina\\anaconda3\\lib\\site-packages (from statsmodels>=0.11.1->feature-engine) (21.3)\n",
      "Requirement already satisfied: pyparsing!=3.0.5,>=2.0.2 in c:\\users\\polina\\anaconda3\\lib\\site-packages (from packaging>=21.3->statsmodels>=0.11.1->feature-engine) (3.0.9)\n",
      "Requirement already satisfied: six in c:\\users\\polina\\anaconda3\\lib\\site-packages (from patsy>=0.5.2->statsmodels>=0.11.1->feature-engine) (1.16.0)\n",
      "Installing collected packages: feature-engine\n",
      "Successfully installed feature-engine-1.6.2\n",
      "Requirement already satisfied: imbalanced-learn in c:\\users\\polina\\anaconda3\\lib\\site-packages (0.11.0)\n",
      "Requirement already satisfied: numpy>=1.17.3 in c:\\users\\polina\\anaconda3\\lib\\site-packages (from imbalanced-learn) (1.21.5)\n",
      "Requirement already satisfied: threadpoolctl>=2.0.0 in c:\\users\\polina\\anaconda3\\lib\\site-packages (from imbalanced-learn) (2.2.0)\n",
      "Requirement already satisfied: scikit-learn>=1.0.2 in c:\\users\\polina\\anaconda3\\lib\\site-packages (from imbalanced-learn) (1.0.2)\n",
      "Requirement already satisfied: joblib>=1.1.1 in c:\\users\\polina\\anaconda3\\lib\\site-packages (from imbalanced-learn) (1.3.2)\n",
      "Requirement already satisfied: scipy>=1.5.0 in c:\\users\\polina\\anaconda3\\lib\\site-packages (from imbalanced-learn) (1.9.1)\n"
     ]
    }
   ],
   "source": [
    "!pip install catboost\n",
    "!pip install feature-engine\n",
    "!pip install imbalanced-learn"
   ]
  },
  {
   "cell_type": "code",
   "execution_count": 5,
   "id": "30e678ce",
   "metadata": {
    "execution": {
     "iopub.execute_input": "2023-10-11T18:16:59.497339Z",
     "iopub.status.busy": "2023-10-11T18:16:59.496136Z",
     "iopub.status.idle": "2023-10-11T18:17:02.934302Z",
     "shell.execute_reply": "2023-10-11T18:17:02.933201Z"
    },
    "papermill": {
     "duration": 3.458645,
     "end_time": "2023-10-11T18:17:02.936713",
     "exception": false,
     "start_time": "2023-10-11T18:16:59.478068",
     "status": "completed"
    },
    "tags": []
   },
   "outputs": [
    {
     "ename": "ModuleNotFoundError",
     "evalue": "No module named 'phik'",
     "output_type": "error",
     "traceback": [
      "\u001b[1;31m---------------------------------------------------------------------------\u001b[0m",
      "\u001b[1;31mModuleNotFoundError\u001b[0m                       Traceback (most recent call last)",
      "\u001b[1;32m~\\AppData\\Local\\Temp\\ipykernel_2704\\1924267865.py\u001b[0m in \u001b[0;36m<module>\u001b[1;34m\u001b[0m\n\u001b[0;32m      2\u001b[0m \u001b[1;32mimport\u001b[0m \u001b[0mnumpy\u001b[0m \u001b[1;32mas\u001b[0m \u001b[0mnp\u001b[0m\u001b[1;33m\u001b[0m\u001b[1;33m\u001b[0m\u001b[0m\n\u001b[0;32m      3\u001b[0m \u001b[1;32mimport\u001b[0m \u001b[0mpandas\u001b[0m \u001b[1;32mas\u001b[0m \u001b[0mpd\u001b[0m\u001b[1;33m\u001b[0m\u001b[1;33m\u001b[0m\u001b[0m\n\u001b[1;32m----> 4\u001b[1;33m \u001b[1;32mimport\u001b[0m \u001b[0mphik\u001b[0m\u001b[1;33m\u001b[0m\u001b[1;33m\u001b[0m\u001b[0m\n\u001b[0m\u001b[0;32m      5\u001b[0m \u001b[1;32mimport\u001b[0m \u001b[0mseaborn\u001b[0m \u001b[1;32mas\u001b[0m \u001b[0msns\u001b[0m\u001b[1;33m\u001b[0m\u001b[1;33m\u001b[0m\u001b[0m\n\u001b[0;32m      6\u001b[0m \u001b[1;32mfrom\u001b[0m \u001b[0mcatboost\u001b[0m \u001b[1;32mimport\u001b[0m \u001b[0mCatBoostClassifier\u001b[0m\u001b[1;33m\u001b[0m\u001b[1;33m\u001b[0m\u001b[0m\n",
      "\u001b[1;31mModuleNotFoundError\u001b[0m: No module named 'phik'"
     ]
    }
   ],
   "source": [
    "import matplotlib.pyplot as plt\n",
    "import numpy as np\n",
    "import pandas as pd\n",
    "import phik\n",
    "import seaborn as sns\n",
    "from catboost import CatBoostClassifier\n",
    "from feature_engine.selection import DropConstantFeatures, DropCorrelatedFeatures\n",
    "from imblearn.combine import SMOTETomek\n",
    "from imblearn.pipeline import make_pipeline as make_imblearn_pipeline\n",
    "from phik.report import plot_correlation_matrix\n",
    "from phik import report\n",
    "from sklearn import set_config\n",
    "from sklearn.compose import make_column_selector, make_column_transformer, ColumnTransformer\n",
    "from sklearn.ensemble import RandomForestClassifier, GradientBoostingClassifier\n",
    "from sklearn.experimental import enable_iterative_imputer\n",
    "from sklearn.impute import IterativeImputer\n",
    "from sklearn.impute import SimpleImputer\n",
    "from sklearn.linear_model import LogisticRegression\n",
    "from sklearn.metrics import (confusion_matrix, f1_score, precision_recall_curve,\n",
    "                             precision_score, recall_score, roc_auc_score,\n",
    "                             roc_curve, accuracy_score, classification_report)\n",
    "from sklearn.model_selection import cross_val_score, cross_validate, GridSearchCV, train_test_split, RandomizedSearchCV\n",
    "from sklearn.neural_network import MLPClassifier\n",
    "from sklearn.pipeline import Pipeline\n",
    "from sklearn.preprocessing import (OrdinalEncoder, StandardScaler, OneHotEncoder,\n",
    "                                   MinMaxScaler, LabelEncoder, RobustScaler, PolynomialFeatures)\n",
    "from sklearn.svm import SVC\n",
    "from sklearn.tree import DecisionTreeClassifier\n",
    "from sklearn.utils import resample, shuffle\n",
    "from sklearn.utils import shuffle\n",
    "from statsmodels.stats.outliers_influence import variance_inflation_factor"
   ]
  },
  {
   "cell_type": "code",
   "execution_count": null,
   "id": "67c0aed8",
   "metadata": {
    "execution": {
     "iopub.execute_input": "2023-10-11T18:17:02.972830Z",
     "iopub.status.busy": "2023-10-11T18:17:02.971653Z",
     "iopub.status.idle": "2023-10-11T18:17:02.976134Z",
     "shell.execute_reply": "2023-10-11T18:17:02.975413Z"
    },
    "papermill": {
     "duration": 0.024218,
     "end_time": "2023-10-11T18:17:02.978044",
     "exception": false,
     "start_time": "2023-10-11T18:17:02.953826",
     "status": "completed"
    },
    "tags": []
   },
   "outputs": [],
   "source": [
    "pd.set_option('display.max_columns', None)"
   ]
  },
  {
   "cell_type": "markdown",
   "id": "569827bb",
   "metadata": {
    "papermill": {
     "duration": 0.017731,
     "end_time": "2023-10-11T18:17:03.012674",
     "exception": false,
     "start_time": "2023-10-11T18:17:02.994943",
     "status": "completed"
    },
    "tags": []
   },
   "source": [
    "Загрузим тренировочный и тестовый датасет."
   ]
  },
  {
   "cell_type": "markdown",
   "id": "a9c01d09",
   "metadata": {},
   "source": [
    "**Комментарий студента**\n",
    "\n",
    "На Kaggle загрузка проводилась с помощью кода, который закомменчен ниже"
   ]
  },
  {
   "cell_type": "code",
   "execution_count": null,
   "id": "b88fb3fe",
   "metadata": {},
   "outputs": [],
   "source": [
    "#df_train = pd.read_csv('/kaggle/input/music-genre-prediction/kaggle_music_genre_train.csv')\n",
    "#df_test = pd.read_csv('/kaggle/input/music-genre-prediction/kaggle_music_genre_test.csv')"
   ]
  },
  {
   "cell_type": "code",
   "execution_count": 9,
   "id": "eedcef1c",
   "metadata": {
    "execution": {
     "iopub.execute_input": "2023-10-11T18:17:03.048294Z",
     "iopub.status.busy": "2023-10-11T18:17:03.047692Z",
     "iopub.status.idle": "2023-10-11T18:17:03.220531Z",
     "shell.execute_reply": "2023-10-11T18:17:03.219332Z"
    },
    "papermill": {
     "duration": 0.194691,
     "end_time": "2023-10-11T18:17:03.224335",
     "exception": false,
     "start_time": "2023-10-11T18:17:03.029644",
     "status": "completed"
    },
    "tags": []
   },
   "outputs": [],
   "source": [
    "df_train = pd.read_csv('kaggle_music_genre_train.csv')\n",
    "df_test = pd.read_csv('kaggle_music_genre_test.csv')"
   ]
  },
  {
   "cell_type": "markdown",
   "id": "ed976eb2",
   "metadata": {
    "papermill": {
     "duration": 0.016889,
     "end_time": "2023-10-11T18:17:03.263218",
     "exception": false,
     "start_time": "2023-10-11T18:17:03.246329",
     "status": "completed"
    },
    "tags": []
   },
   "source": [
    "Создадим функцию, чтобы вывести основную информацию о датасетах."
   ]
  },
  {
   "cell_type": "code",
   "execution_count": 10,
   "id": "555d1849",
   "metadata": {
    "execution": {
     "iopub.execute_input": "2023-10-11T18:17:03.298816Z",
     "iopub.status.busy": "2023-10-11T18:17:03.298379Z",
     "iopub.status.idle": "2023-10-11T18:17:03.304273Z",
     "shell.execute_reply": "2023-10-11T18:17:03.303168Z"
    },
    "papermill": {
     "duration": 0.026409,
     "end_time": "2023-10-11T18:17:03.306520",
     "exception": false,
     "start_time": "2023-10-11T18:17:03.280111",
     "status": "completed"
    },
    "tags": []
   },
   "outputs": [],
   "source": [
    "def info(dataset):\n",
    "    print(dataset.head())\n",
    "    print(dataset.info())\n",
    "    print(dataset.describe(include='all'))\n",
    "    print(dataset.isna().sum())"
   ]
  },
  {
   "cell_type": "code",
   "execution_count": 11,
   "id": "7005dd59",
   "metadata": {
    "execution": {
     "iopub.execute_input": "2023-10-11T18:17:03.342252Z",
     "iopub.status.busy": "2023-10-11T18:17:03.341194Z",
     "iopub.status.idle": "2023-10-11T18:17:03.481781Z",
     "shell.execute_reply": "2023-10-11T18:17:03.480724Z"
    },
    "papermill": {
     "duration": 0.160963,
     "end_time": "2023-10-11T18:17:03.484115",
     "exception": false,
     "start_time": "2023-10-11T18:17:03.323152",
     "status": "completed"
    },
    "tags": []
   },
   "outputs": [
    {
     "name": "stdout",
     "output_type": "stream",
     "text": [
      "   instance_id                  track_name  acousticness  danceability  \\\n",
      "0      25143.0                  Highwayman        0.4800         0.670   \n",
      "1      26091.0       Toes Across The Floor        0.2430         0.452   \n",
      "2      87888.0       First Person on Earth        0.2280         0.454   \n",
      "3      77021.0  No Te Veo - Digital Single        0.0558         0.847   \n",
      "4      20852.0             Chasing Shadows        0.2270         0.742   \n",
      "\n",
      "   duration_ms  energy  instrumentalness key  liveness  loudness   mode  \\\n",
      "0     182653.0   0.351          0.017600   D     0.115   -16.842  Major   \n",
      "1     187133.0   0.670          0.000051   A     0.108    -8.392  Minor   \n",
      "2     173448.0   0.804          0.000000   E     0.181    -5.225  Minor   \n",
      "3     255987.0   0.873          0.000003  G#     0.325    -4.805  Minor   \n",
      "4     195333.0   0.575          0.000002   C     0.176    -5.550  Major   \n",
      "\n",
      "   speechiness    tempo obtained_date  valence  music_genre  \n",
      "0       0.0463  101.384         4-Apr    0.450      Country  \n",
      "1       0.0352  113.071         4-Apr    0.539         Rock  \n",
      "2       0.3710   80.980         4-Apr    0.344  Alternative  \n",
      "3       0.0804  116.007         4-Apr    0.966      Hip-Hop  \n",
      "4       0.0487   76.494         4-Apr    0.583  Alternative  \n",
      "<class 'pandas.core.frame.DataFrame'>\n",
      "RangeIndex: 20394 entries, 0 to 20393\n",
      "Data columns (total 16 columns):\n",
      " #   Column            Non-Null Count  Dtype  \n",
      "---  ------            --------------  -----  \n",
      " 0   instance_id       20394 non-null  float64\n",
      " 1   track_name        20394 non-null  object \n",
      " 2   acousticness      20394 non-null  float64\n",
      " 3   danceability      20394 non-null  float64\n",
      " 4   duration_ms       20394 non-null  float64\n",
      " 5   energy            20394 non-null  float64\n",
      " 6   instrumentalness  20394 non-null  float64\n",
      " 7   key               19659 non-null  object \n",
      " 8   liveness          20394 non-null  float64\n",
      " 9   loudness          20394 non-null  float64\n",
      " 10  mode              19888 non-null  object \n",
      " 11  speechiness       20394 non-null  float64\n",
      " 12  tempo             19952 non-null  float64\n",
      " 13  obtained_date     20394 non-null  object \n",
      " 14  valence           20394 non-null  float64\n",
      " 15  music_genre       20394 non-null  object \n",
      "dtypes: float64(11), object(5)\n",
      "memory usage: 2.5+ MB\n",
      "None\n",
      "         instance_id track_name  acousticness  danceability   duration_ms  \\\n",
      "count   20394.000000      20394  20394.000000  20394.000000  2.039400e+04   \n",
      "unique           NaN      18643           NaN           NaN           NaN   \n",
      "top              NaN       Home           NaN           NaN           NaN   \n",
      "freq             NaN         11           NaN           NaN           NaN   \n",
      "mean    55973.846916        NaN      0.274783      0.561983  2.203754e+05   \n",
      "std     20695.792545        NaN      0.321643      0.171898  1.267283e+05   \n",
      "min     20011.000000        NaN      0.000000      0.060000 -1.000000e+00   \n",
      "25%     38157.250000        NaN      0.015200      0.451000  1.775170e+05   \n",
      "50%     56030.000000        NaN      0.120000      0.570000  2.195330e+05   \n",
      "75%     73912.750000        NaN      0.470000      0.683000  2.660000e+05   \n",
      "max     91758.000000        NaN      0.996000      0.978000  4.497994e+06   \n",
      "\n",
      "              energy  instrumentalness    key      liveness      loudness  \\\n",
      "count   20394.000000      20394.000000  19659  20394.000000  20394.000000   \n",
      "unique           NaN               NaN     12           NaN           NaN   \n",
      "top              NaN               NaN      G           NaN           NaN   \n",
      "freq             NaN               NaN   2304           NaN           NaN   \n",
      "mean        0.625276          0.159989    NaN      0.198540     -8.552998   \n",
      "std         0.251238          0.306503    NaN      0.166742      5.499917   \n",
      "min         0.001010          0.000000    NaN      0.013600    -44.406000   \n",
      "25%         0.470000          0.000000    NaN      0.097300    -10.255750   \n",
      "50%         0.666000          0.000144    NaN      0.130000     -7.052000   \n",
      "75%         0.830000          0.084475    NaN      0.253000     -5.054000   \n",
      "max         0.999000          0.996000    NaN      1.000000      3.744000   \n",
      "\n",
      "         mode   speechiness         tempo obtained_date       valence  \\\n",
      "count   19888  20394.000000  19952.000000         20394  20394.000000   \n",
      "unique      2           NaN           NaN             4           NaN   \n",
      "top     Major           NaN           NaN         4-Apr           NaN   \n",
      "freq    12828           NaN           NaN         18435           NaN   \n",
      "mean      NaN      0.091352    120.942522           NaN      0.464588   \n",
      "std       NaN      0.097735     30.427590           NaN      0.243387   \n",
      "min       NaN      0.022300     34.765000           NaN      0.000000   \n",
      "25%       NaN      0.035600     95.921750           NaN      0.272000   \n",
      "50%       NaN      0.049050    120.012500           NaN      0.457000   \n",
      "75%       NaN      0.095575    141.966250           NaN      0.653000   \n",
      "max       NaN      0.942000    220.041000           NaN      0.992000   \n",
      "\n",
      "       music_genre  \n",
      "count        20394  \n",
      "unique          10  \n",
      "top          Blues  \n",
      "freq          2858  \n",
      "mean           NaN  \n",
      "std            NaN  \n",
      "min            NaN  \n",
      "25%            NaN  \n",
      "50%            NaN  \n",
      "75%            NaN  \n",
      "max            NaN  \n",
      "instance_id           0\n",
      "track_name            0\n",
      "acousticness          0\n",
      "danceability          0\n",
      "duration_ms           0\n",
      "energy                0\n",
      "instrumentalness      0\n",
      "key                 735\n",
      "liveness              0\n",
      "loudness              0\n",
      "mode                506\n",
      "speechiness           0\n",
      "tempo               442\n",
      "obtained_date         0\n",
      "valence               0\n",
      "music_genre           0\n",
      "dtype: int64\n"
     ]
    }
   ],
   "source": [
    "info(df_train)"
   ]
  },
  {
   "cell_type": "code",
   "execution_count": 12,
   "id": "8cb3ab4a",
   "metadata": {
    "execution": {
     "iopub.execute_input": "2023-10-11T18:17:03.525645Z",
     "iopub.status.busy": "2023-10-11T18:17:03.525253Z",
     "iopub.status.idle": "2023-10-11T18:17:03.585227Z",
     "shell.execute_reply": "2023-10-11T18:17:03.584195Z"
    },
    "papermill": {
     "duration": 0.080738,
     "end_time": "2023-10-11T18:17:03.587532",
     "exception": false,
     "start_time": "2023-10-11T18:17:03.506794",
     "status": "completed"
    },
    "tags": []
   },
   "outputs": [
    {
     "name": "stdout",
     "output_type": "stream",
     "text": [
      "   instance_id            track_name  acousticness  danceability  duration_ms  \\\n",
      "0        48564  Low Class Conspiracy      0.301000         0.757     146213.0   \n",
      "1        72394            The Hunter      0.538000         0.256     240360.0   \n",
      "2        88081           Hate Me Now      0.005830         0.678     284000.0   \n",
      "3        78331    Somebody Ain't You      0.020300         0.592     177354.0   \n",
      "4        72636            Sour Mango      0.000335         0.421         -1.0   \n",
      "\n",
      "   energy  instrumentalness key  liveness  loudness   mode  speechiness  \\\n",
      "0   0.679           0.00000  A#    0.3030    -7.136  Minor       0.3560   \n",
      "1   0.523           0.00832  G#    0.0849    -5.175  Major       0.0294   \n",
      "2   0.770           0.00000   A    0.1090    -4.399  Minor       0.2220   \n",
      "3   0.749           0.00000   B    0.1220    -4.604  Major       0.0483   \n",
      "4   0.447           0.01480   D    0.0374    -8.833  Major       0.2020   \n",
      "\n",
      "     tempo obtained_date  valence  \n",
      "0   90.361         4-Apr    0.895  \n",
      "1   78.385         4-Apr    0.318  \n",
      "2   90.000         4-Apr    0.412  \n",
      "3  160.046         4-Apr    0.614  \n",
      "4   73.830         4-Apr    0.121  \n",
      "<class 'pandas.core.frame.DataFrame'>\n",
      "RangeIndex: 5099 entries, 0 to 5098\n",
      "Data columns (total 15 columns):\n",
      " #   Column            Non-Null Count  Dtype  \n",
      "---  ------            --------------  -----  \n",
      " 0   instance_id       5099 non-null   int64  \n",
      " 1   track_name        5099 non-null   object \n",
      " 2   acousticness      5099 non-null   float64\n",
      " 3   danceability      5099 non-null   float64\n",
      " 4   duration_ms       5099 non-null   float64\n",
      " 5   energy            5099 non-null   float64\n",
      " 6   instrumentalness  5099 non-null   float64\n",
      " 7   key               4941 non-null   object \n",
      " 8   liveness          5099 non-null   float64\n",
      " 9   loudness          5099 non-null   float64\n",
      " 10  mode              4950 non-null   object \n",
      " 11  speechiness       5099 non-null   float64\n",
      " 12  tempo             4978 non-null   float64\n",
      " 13  obtained_date     5099 non-null   object \n",
      " 14  valence           5099 non-null   float64\n",
      "dtypes: float64(10), int64(1), object(4)\n",
      "memory usage: 597.7+ KB\n",
      "None\n",
      "         instance_id track_name  acousticness  danceability   duration_ms  \\\n",
      "count    5099.000000       5099   5099.000000   5099.000000  5.099000e+03   \n",
      "unique           NaN       4981           NaN           NaN           NaN   \n",
      "top              NaN  Hurricane           NaN           NaN           NaN   \n",
      "freq             NaN          3           NaN           NaN           NaN   \n",
      "mean    55643.871347        NaN      0.276324      0.561888  2.173974e+05   \n",
      "std     20762.384803        NaN      0.322657      0.170502  1.156374e+05   \n",
      "min     20012.000000        NaN      0.000002      0.059600 -1.000000e+00   \n",
      "25%     37571.000000        NaN      0.016600      0.451000  1.737335e+05   \n",
      "50%     55246.000000        NaN      0.120000      0.568000  2.175000e+05   \n",
      "75%     73702.000000        NaN      0.460000      0.681000  2.642470e+05   \n",
      "max     91709.000000        NaN      0.996000      0.977000  1.360027e+06   \n",
      "\n",
      "             energy  instrumentalness   key     liveness     loudness   mode  \\\n",
      "count   5099.000000       5099.000000  4941  5099.000000  5099.000000   4950   \n",
      "unique          NaN               NaN    12          NaN          NaN      2   \n",
      "top             NaN               NaN     D          NaN          NaN  Major   \n",
      "freq            NaN               NaN   557          NaN          NaN   3177   \n",
      "mean       0.622030          0.165198   NaN     0.197924    -8.630186    NaN   \n",
      "std        0.251829          0.311940   NaN     0.166241     5.619766    NaN   \n",
      "min        0.001540          0.000000   NaN     0.020400   -46.122000    NaN   \n",
      "25%        0.465000          0.000000   NaN     0.096950   -10.231000    NaN   \n",
      "50%        0.660000          0.000157   NaN     0.129000    -7.135000    NaN   \n",
      "75%        0.826000          0.092750   NaN     0.248000    -5.127000    NaN   \n",
      "max        0.999000          0.994000   NaN     0.990000     1.949000    NaN   \n",
      "\n",
      "        speechiness        tempo obtained_date      valence  \n",
      "count   5099.000000  4978.000000          5099  5099.000000  \n",
      "unique          NaN          NaN             4          NaN  \n",
      "top             NaN          NaN         4-Apr          NaN  \n",
      "freq            NaN          NaN          4597          NaN  \n",
      "mean       0.092718   121.246463           NaN     0.465593  \n",
      "std        0.100130    29.875950           NaN     0.244217  \n",
      "min        0.022600    37.114000           NaN     0.020500  \n",
      "25%        0.035700    96.070250           NaN     0.272000  \n",
      "50%        0.048700   120.053500           NaN     0.458000  \n",
      "75%        0.096550   141.934250           NaN     0.650000  \n",
      "max        0.918000   216.029000           NaN     0.982000  \n",
      "instance_id           0\n",
      "track_name            0\n",
      "acousticness          0\n",
      "danceability          0\n",
      "duration_ms           0\n",
      "energy                0\n",
      "instrumentalness      0\n",
      "key                 158\n",
      "liveness              0\n",
      "loudness              0\n",
      "mode                149\n",
      "speechiness           0\n",
      "tempo               121\n",
      "obtained_date         0\n",
      "valence               0\n",
      "dtype: int64\n"
     ]
    }
   ],
   "source": [
    "info(df_test)"
   ]
  },
  {
   "cell_type": "markdown",
   "id": "eab5efa1",
   "metadata": {
    "papermill": {
     "duration": 0.017079,
     "end_time": "2023-10-11T18:17:03.622143",
     "exception": false,
     "start_time": "2023-10-11T18:17:03.605064",
     "status": "completed"
    },
    "tags": []
   },
   "source": [
    "Описание данных, содержащихся в датасетах:\n",
    "\n",
    "instance_id - уникальный идентификатор трека\n",
    "\n",
    "track_name - название трека\n",
    "\n",
    "acousticness - акустичность\n",
    "\n",
    "danceability - танцевальность\n",
    "\n",
    "duration_ms -продолжительность в милисекундах\n",
    "\n",
    "energy - энергичность\n",
    "\n",
    "instrumentalness - инструментальность\n",
    "\n",
    "key - базовый ключ (нота) произведения\n",
    "\n",
    "liveness - привлекательность\n",
    "\n",
    "loudness - громкость\n",
    "\n",
    "mode - указывает на модальность (мажорную или минорную) трека\n",
    "\n",
    "speechiness - выразительность\n",
    "\n",
    "tempo - темп\n",
    "\n",
    "obtained_date - дата загрузки в сервис\n",
    "\n",
    "valence - привлекательность произведения для пользователей сервиса\n",
    "\n",
    "music_genre - музыкальный жанр"
   ]
  },
  {
   "cell_type": "markdown",
   "id": "d392fbbd",
   "metadata": {
    "papermill": {
     "duration": 0.016796,
     "end_time": "2023-10-11T18:17:03.656167",
     "exception": false,
     "start_time": "2023-10-11T18:17:03.639371",
     "status": "completed"
    },
    "tags": []
   },
   "source": [
    "Проверим датасеты на наличие явных дубликатов."
   ]
  },
  {
   "cell_type": "code",
   "execution_count": null,
   "id": "6c7c3262",
   "metadata": {
    "execution": {
     "iopub.execute_input": "2023-10-11T18:17:03.693128Z",
     "iopub.status.busy": "2023-10-11T18:17:03.692380Z",
     "iopub.status.idle": "2023-10-11T18:17:03.726027Z",
     "shell.execute_reply": "2023-10-11T18:17:03.724836Z"
    },
    "papermill": {
     "duration": 0.054243,
     "end_time": "2023-10-11T18:17:03.728301",
     "exception": false,
     "start_time": "2023-10-11T18:17:03.674058",
     "status": "completed"
    },
    "tags": []
   },
   "outputs": [],
   "source": [
    "print(df_train.duplicated().sum())\n",
    "print(df_test.duplicated().sum())"
   ]
  },
  {
   "cell_type": "raw",
   "id": "36263322",
   "metadata": {
    "papermill": {
     "duration": 0.016952,
     "end_time": "2023-10-11T18:17:03.762758",
     "exception": false,
     "start_time": "2023-10-11T18:17:03.745806",
     "status": "completed"
    },
    "tags": []
   },
   "source": [
    "В датасетах нет явных дубликатов. Из уникальной информации о треках у нас только instance_id, но проверять его на дубликаты нет смысла, так как для машинного обучения он бесполезен и вскоре будет удален."
   ]
  },
  {
   "cell_type": "markdown",
   "id": "89b1d611",
   "metadata": {
    "papermill": {
     "duration": 0.016983,
     "end_time": "2023-10-11T18:17:03.796927",
     "exception": false,
     "start_time": "2023-10-11T18:17:03.779944",
     "status": "completed"
    },
    "tags": []
   },
   "source": [
    "Теперь проверим,сколько пропусков в датасетах."
   ]
  },
  {
   "cell_type": "code",
   "execution_count": null,
   "id": "fa628ed7",
   "metadata": {
    "execution": {
     "iopub.execute_input": "2023-10-11T18:17:03.833423Z",
     "iopub.status.busy": "2023-10-11T18:17:03.833070Z",
     "iopub.status.idle": "2023-10-11T18:17:03.844565Z",
     "shell.execute_reply": "2023-10-11T18:17:03.843445Z"
    },
    "papermill": {
     "duration": 0.031799,
     "end_time": "2023-10-11T18:17:03.846373",
     "exception": false,
     "start_time": "2023-10-11T18:17:03.814574",
     "status": "completed"
    },
    "tags": []
   },
   "outputs": [],
   "source": [
    "print(df_train.isna().sum())"
   ]
  },
  {
   "cell_type": "code",
   "execution_count": null,
   "id": "35a564cc",
   "metadata": {
    "execution": {
     "iopub.execute_input": "2023-10-11T18:17:03.881838Z",
     "iopub.status.busy": "2023-10-11T18:17:03.881501Z",
     "iopub.status.idle": "2023-10-11T18:17:03.889241Z",
     "shell.execute_reply": "2023-10-11T18:17:03.888111Z"
    },
    "papermill": {
     "duration": 0.027892,
     "end_time": "2023-10-11T18:17:03.891271",
     "exception": false,
     "start_time": "2023-10-11T18:17:03.863379",
     "status": "completed"
    },
    "tags": []
   },
   "outputs": [],
   "source": [
    "print(df_test.isna().sum())"
   ]
  },
  {
   "cell_type": "markdown",
   "id": "0ef8e8ce",
   "metadata": {
    "papermill": {
     "duration": 0.016868,
     "end_time": "2023-10-11T18:17:03.925309",
     "exception": false,
     "start_time": "2023-10-11T18:17:03.908441",
     "status": "completed"
    },
    "tags": []
   },
   "source": [
    "В обоих датасетах пропуски присутствуют в столбцах key, mode и tempo.\n",
    "\n",
    "Для того, чтобы решить, что делать с пропусками, нужно знать, какую часть от всего датасета они составляют.  Тестовые данные трогать не будем. Поэтому:"
   ]
  },
  {
   "cell_type": "code",
   "execution_count": null,
   "id": "a46e0e74",
   "metadata": {
    "execution": {
     "iopub.execute_input": "2023-10-11T18:17:03.962223Z",
     "iopub.status.busy": "2023-10-11T18:17:03.961101Z",
     "iopub.status.idle": "2023-10-11T18:17:03.968654Z",
     "shell.execute_reply": "2023-10-11T18:17:03.967802Z"
    },
    "papermill": {
     "duration": 0.027934,
     "end_time": "2023-10-11T18:17:03.970576",
     "exception": false,
     "start_time": "2023-10-11T18:17:03.942642",
     "status": "completed"
    },
    "tags": []
   },
   "outputs": [],
   "source": [
    "df_train.shape"
   ]
  },
  {
   "cell_type": "markdown",
   "id": "ab70e19d",
   "metadata": {
    "papermill": {
     "duration": 0.017911,
     "end_time": "2023-10-11T18:17:04.006616",
     "exception": false,
     "start_time": "2023-10-11T18:17:03.988705",
     "status": "completed"
    },
    "tags": []
   },
   "source": [
    "Пропуски составляют небольшую часть от всего датасета, так что просто удалим их."
   ]
  },
  {
   "cell_type": "code",
   "execution_count": null,
   "id": "d7f4ea9c",
   "metadata": {
    "execution": {
     "iopub.execute_input": "2023-10-11T18:17:04.043931Z",
     "iopub.status.busy": "2023-10-11T18:17:04.043594Z",
     "iopub.status.idle": "2023-10-11T18:17:04.055885Z",
     "shell.execute_reply": "2023-10-11T18:17:04.054844Z"
    },
    "papermill": {
     "duration": 0.033361,
     "end_time": "2023-10-11T18:17:04.057867",
     "exception": false,
     "start_time": "2023-10-11T18:17:04.024506",
     "status": "completed"
    },
    "tags": []
   },
   "outputs": [],
   "source": [
    "df_train = df_train.dropna()"
   ]
  },
  {
   "cell_type": "code",
   "execution_count": null,
   "id": "3c4ee16c",
   "metadata": {
    "execution": {
     "iopub.execute_input": "2023-10-11T18:17:04.094633Z",
     "iopub.status.busy": "2023-10-11T18:17:04.094208Z",
     "iopub.status.idle": "2023-10-11T18:17:04.100162Z",
     "shell.execute_reply": "2023-10-11T18:17:04.099214Z"
    },
    "papermill": {
     "duration": 0.026524,
     "end_time": "2023-10-11T18:17:04.101923",
     "exception": false,
     "start_time": "2023-10-11T18:17:04.075399",
     "status": "completed"
    },
    "tags": []
   },
   "outputs": [],
   "source": [
    "df_train.shape"
   ]
  },
  {
   "cell_type": "raw",
   "id": "1ad2eeea",
   "metadata": {
    "papermill": {
     "duration": 0.016865,
     "end_time": "2023-10-11T18:17:04.136416",
     "exception": false,
     "start_time": "2023-10-11T18:17:04.119551",
     "status": "completed"
    },
    "tags": []
   },
   "source": [
    "Удаление пропусков прошло успешно. "
   ]
  },
  {
   "cell_type": "markdown",
   "id": "4c666703",
   "metadata": {
    "papermill": {
     "duration": 0.016949,
     "end_time": "2023-10-11T18:17:04.170894",
     "exception": false,
     "start_time": "2023-10-11T18:17:04.153945",
     "status": "completed"
    },
    "tags": []
   },
   "source": [
    "Теперь взглянем, какие уникальные значения и в каком количестве содержатся в столбцах."
   ]
  },
  {
   "cell_type": "code",
   "execution_count": null,
   "id": "f8862472",
   "metadata": {
    "execution": {
     "iopub.execute_input": "2023-10-11T18:17:04.206782Z",
     "iopub.status.busy": "2023-10-11T18:17:04.206419Z",
     "iopub.status.idle": "2023-10-11T18:17:04.210274Z",
     "shell.execute_reply": "2023-10-11T18:17:04.209652Z"
    },
    "papermill": {
     "duration": 0.023756,
     "end_time": "2023-10-11T18:17:04.211845",
     "exception": false,
     "start_time": "2023-10-11T18:17:04.188089",
     "status": "completed"
    },
    "tags": []
   },
   "outputs": [],
   "source": [
    "def unique_data(dataset):\n",
    "    for column in dataset.columns:\n",
    "        print(column)\n",
    "        print(dataset[column].unique())"
   ]
  },
  {
   "cell_type": "code",
   "execution_count": null,
   "id": "3ae4fd0e",
   "metadata": {
    "execution": {
     "iopub.execute_input": "2023-10-11T18:17:04.248997Z",
     "iopub.status.busy": "2023-10-11T18:17:04.248358Z",
     "iopub.status.idle": "2023-10-11T18:17:04.274138Z",
     "shell.execute_reply": "2023-10-11T18:17:04.272894Z"
    },
    "papermill": {
     "duration": 0.047127,
     "end_time": "2023-10-11T18:17:04.276328",
     "exception": false,
     "start_time": "2023-10-11T18:17:04.229201",
     "status": "completed"
    },
    "tags": []
   },
   "outputs": [],
   "source": [
    "unique_data(df_train)"
   ]
  },
  {
   "cell_type": "code",
   "execution_count": null,
   "id": "5d1b1f61",
   "metadata": {
    "execution": {
     "iopub.execute_input": "2023-10-11T18:17:04.313430Z",
     "iopub.status.busy": "2023-10-11T18:17:04.312771Z",
     "iopub.status.idle": "2023-10-11T18:17:04.328497Z",
     "shell.execute_reply": "2023-10-11T18:17:04.327335Z"
    },
    "papermill": {
     "duration": 0.036735,
     "end_time": "2023-10-11T18:17:04.330764",
     "exception": false,
     "start_time": "2023-10-11T18:17:04.294029",
     "status": "completed"
    },
    "tags": []
   },
   "outputs": [],
   "source": [
    "unique_data(df_test)"
   ]
  },
  {
   "cell_type": "markdown",
   "id": "5d33db78",
   "metadata": {
    "papermill": {
     "duration": 0.020178,
     "end_time": "2023-10-11T18:17:04.370698",
     "exception": false,
     "start_time": "2023-10-11T18:17:04.350520",
     "status": "completed"
    },
    "tags": []
   },
   "source": [
    "На первый взгляд: значения в датасетах похожи.\n",
    "\n",
    "instance_id, track_name, acousticness, danceability, duration_ms,energy,instrumentalness, liveness, loudness, speechiness, tempo, valence и в тесте, и в трейне содержит множество значений, что естественно для количественных переменных.\n",
    "\n",
    "В столбцах key и mode соответственно 12 и 2 уникальных значений. Тестовый датасет в этих столбцах содержит также пропуски.\n",
    "\n",
    "И самый главный столбец - genre - включает в себя 10 уникальных значений жанров (в тренировочном датасете). Именно жанр необходимо предсказать в тестовом датасете."
   ]
  },
  {
   "cell_type": "markdown",
   "id": "1ac94fdb",
   "metadata": {
    "papermill": {
     "duration": 0.017464,
     "end_time": "2023-10-11T18:17:04.406289",
     "exception": false,
     "start_time": "2023-10-11T18:17:04.388825",
     "status": "completed"
    },
    "tags": []
   },
   "source": [
    "Удалим ненужный для анализа столбец - instance_id."
   ]
  },
  {
   "cell_type": "code",
   "execution_count": null,
   "id": "038067ba",
   "metadata": {
    "execution": {
     "iopub.execute_input": "2023-10-11T18:17:04.444237Z",
     "iopub.status.busy": "2023-10-11T18:17:04.443685Z",
     "iopub.status.idle": "2023-10-11T18:17:04.464654Z",
     "shell.execute_reply": "2023-10-11T18:17:04.463493Z"
    },
    "papermill": {
     "duration": 0.042556,
     "end_time": "2023-10-11T18:17:04.466782",
     "exception": false,
     "start_time": "2023-10-11T18:17:04.424226",
     "status": "completed"
    },
    "tags": []
   },
   "outputs": [],
   "source": [
    "df_train.head()"
   ]
  },
  {
   "cell_type": "code",
   "execution_count": null,
   "id": "be8a5134",
   "metadata": {
    "execution": {
     "iopub.execute_input": "2023-10-11T18:17:04.509078Z",
     "iopub.status.busy": "2023-10-11T18:17:04.508163Z",
     "iopub.status.idle": "2023-10-11T18:17:04.517103Z",
     "shell.execute_reply": "2023-10-11T18:17:04.516093Z"
    },
    "papermill": {
     "duration": 0.032644,
     "end_time": "2023-10-11T18:17:04.518871",
     "exception": false,
     "start_time": "2023-10-11T18:17:04.486227",
     "status": "completed"
    },
    "tags": []
   },
   "outputs": [],
   "source": [
    "df_train = df_train.drop(['instance_id'], axis= 1)"
   ]
  },
  {
   "cell_type": "code",
   "execution_count": null,
   "id": "62489ad4",
   "metadata": {
    "execution": {
     "iopub.execute_input": "2023-10-11T18:17:04.557793Z",
     "iopub.status.busy": "2023-10-11T18:17:04.557234Z",
     "iopub.status.idle": "2023-10-11T18:17:04.577379Z",
     "shell.execute_reply": "2023-10-11T18:17:04.576354Z"
    },
    "papermill": {
     "duration": 0.042055,
     "end_time": "2023-10-11T18:17:04.579402",
     "exception": false,
     "start_time": "2023-10-11T18:17:04.537347",
     "status": "completed"
    },
    "tags": []
   },
   "outputs": [],
   "source": [
    "df_train.head()"
   ]
  },
  {
   "cell_type": "markdown",
   "id": "eee0ed02",
   "metadata": {
    "papermill": {
     "duration": 0.019351,
     "end_time": "2023-10-11T18:17:04.617872",
     "exception": false,
     "start_time": "2023-10-11T18:17:04.598521",
     "status": "completed"
    },
    "tags": []
   },
   "source": [
    "Изучим распределение значений и корреляцию между столбцами."
   ]
  },
  {
   "cell_type": "code",
   "execution_count": null,
   "id": "d58e5210",
   "metadata": {
    "execution": {
     "iopub.execute_input": "2023-10-11T18:17:04.658628Z",
     "iopub.status.busy": "2023-10-11T18:17:04.657670Z",
     "iopub.status.idle": "2023-10-11T18:17:04.664595Z",
     "shell.execute_reply": "2023-10-11T18:17:04.663826Z"
    },
    "papermill": {
     "duration": 0.029661,
     "end_time": "2023-10-11T18:17:04.666571",
     "exception": false,
     "start_time": "2023-10-11T18:17:04.636910",
     "status": "completed"
    },
    "tags": []
   },
   "outputs": [],
   "source": [
    "plt.rcParams[\"figure.figsize\"] = (20,6)\n",
    "def distribution_plots(data, name, title):\n",
    "    fig, ax = plt.subplots(1, 2)\n",
    "    fig.suptitle('Распределение ' + name, fontweight='bold', fontsize=20)\n",
    "    sns.distplot(data, ax=ax[0])\n",
    "    ax[0].set_ylabel('Плотность')\n",
    "    ax[0].set_title(title, fontsize=18)\n",
    "    \n",
    "    sns.boxplot(data, ax=ax[1])\n",
    "    ax[0].set_title(title, fontsize=18)\n",
    "    plt.show()\n",
    "    \n",
    "def distribution(data, name):\n",
    "    columns = [i for i in df_train.columns if (df_train[i].nunique() > 2) & (df_train[i].dtypes != 'object')]\n",
    "    for column in columns:\n",
    "        distribution_plots(data[column], name, column)"
   ]
  },
  {
   "cell_type": "code",
   "execution_count": null,
   "id": "ce36d541",
   "metadata": {
    "execution": {
     "iopub.execute_input": "2023-10-11T18:17:04.705797Z",
     "iopub.status.busy": "2023-10-11T18:17:04.704988Z",
     "iopub.status.idle": "2023-10-11T18:17:10.634175Z",
     "shell.execute_reply": "2023-10-11T18:17:10.633131Z"
    },
    "papermill": {
     "duration": 5.951112,
     "end_time": "2023-10-11T18:17:10.636156",
     "exception": false,
     "start_time": "2023-10-11T18:17:04.685044",
     "status": "completed"
    },
    "tags": []
   },
   "outputs": [],
   "source": [
    "distribution(df_train, 'df_train')"
   ]
  },
  {
   "cell_type": "markdown",
   "id": "fb6eaf96",
   "metadata": {
    "papermill": {
     "duration": 0.027943,
     "end_time": "2023-10-11T18:17:10.692735",
     "exception": false,
     "start_time": "2023-10-11T18:17:10.664792",
     "status": "completed"
    },
    "tags": []
   },
   "source": [
    "Выбросов, если они и есть, очень мало. Встречаются столбцы с логнормальным распределением - instrumentalness, liveness, loudness, speechiness.\n",
    "Встречаются треки с отрицательной продолжительностью, с этим разберемся дальше."
   ]
  },
  {
   "cell_type": "code",
   "execution_count": null,
   "id": "339b183e",
   "metadata": {
    "execution": {
     "iopub.execute_input": "2023-10-11T18:17:10.750017Z",
     "iopub.status.busy": "2023-10-11T18:17:10.748999Z",
     "iopub.status.idle": "2023-10-11T18:17:10.758731Z",
     "shell.execute_reply": "2023-10-11T18:17:10.757668Z"
    },
    "papermill": {
     "duration": 0.040223,
     "end_time": "2023-10-11T18:17:10.760788",
     "exception": false,
     "start_time": "2023-10-11T18:17:10.720565",
     "status": "completed"
    },
    "tags": []
   },
   "outputs": [],
   "source": [
    "df_train['key'].value_counts()"
   ]
  },
  {
   "cell_type": "code",
   "execution_count": null,
   "id": "d774f324",
   "metadata": {
    "execution": {
     "iopub.execute_input": "2023-10-11T18:17:10.818910Z",
     "iopub.status.busy": "2023-10-11T18:17:10.818571Z",
     "iopub.status.idle": "2023-10-11T18:17:10.826089Z",
     "shell.execute_reply": "2023-10-11T18:17:10.825318Z"
    },
    "papermill": {
     "duration": 0.038222,
     "end_time": "2023-10-11T18:17:10.827779",
     "exception": false,
     "start_time": "2023-10-11T18:17:10.789557",
     "status": "completed"
    },
    "tags": []
   },
   "outputs": [],
   "source": [
    "df_train['mode'].value_counts()"
   ]
  },
  {
   "cell_type": "code",
   "execution_count": null,
   "id": "c2bd8ffb",
   "metadata": {
    "execution": {
     "iopub.execute_input": "2023-10-11T18:17:10.884353Z",
     "iopub.status.busy": "2023-10-11T18:17:10.883799Z",
     "iopub.status.idle": "2023-10-11T18:17:10.892295Z",
     "shell.execute_reply": "2023-10-11T18:17:10.891262Z"
    },
    "papermill": {
     "duration": 0.039455,
     "end_time": "2023-10-11T18:17:10.894339",
     "exception": false,
     "start_time": "2023-10-11T18:17:10.854884",
     "status": "completed"
    },
    "tags": []
   },
   "outputs": [],
   "source": [
    "df_train['music_genre'].value_counts()"
   ]
  },
  {
   "cell_type": "markdown",
   "id": "40fbc79d",
   "metadata": {
    "papermill": {
     "duration": 0.027457,
     "end_time": "2023-10-11T18:17:10.949292",
     "exception": false,
     "start_time": "2023-10-11T18:17:10.921835",
     "status": "completed"
    },
    "tags": []
   },
   "source": [
    "В столбцах key, mode и, главное, music_genre, не наблюдается дисбаланса."
   ]
  },
  {
   "cell_type": "code",
   "execution_count": null,
   "id": "4c765487",
   "metadata": {
    "execution": {
     "iopub.execute_input": "2023-10-11T18:17:11.007300Z",
     "iopub.status.busy": "2023-10-11T18:17:11.006895Z",
     "iopub.status.idle": "2023-10-11T18:18:17.176777Z",
     "shell.execute_reply": "2023-10-11T18:18:17.175285Z"
    },
    "papermill": {
     "duration": 66.20202,
     "end_time": "2023-10-11T18:18:17.179128",
     "exception": false,
     "start_time": "2023-10-11T18:17:10.977108",
     "status": "completed"
    },
    "tags": []
   },
   "outputs": [],
   "source": [
    "phik_overview = df_train.phik_matrix()"
   ]
  },
  {
   "cell_type": "code",
   "execution_count": null,
   "id": "f6b8a4a8",
   "metadata": {
    "execution": {
     "iopub.execute_input": "2023-10-11T18:18:17.236679Z",
     "iopub.status.busy": "2023-10-11T18:18:17.236266Z",
     "iopub.status.idle": "2023-10-11T18:18:19.024160Z",
     "shell.execute_reply": "2023-10-11T18:18:19.022990Z"
    },
    "papermill": {
     "duration": 1.82234,
     "end_time": "2023-10-11T18:18:19.029210",
     "exception": false,
     "start_time": "2023-10-11T18:18:17.206870",
     "status": "completed"
    },
    "tags": []
   },
   "outputs": [],
   "source": [
    "plot_correlation_matrix(phik_overview.values, \n",
    "                        x_labels=phik_overview.columns, \n",
    "                        y_labels=phik_overview.index, \n",
    "                        vmin=0, vmax=1, color_map=\"Greens\", \n",
    "                        title=r\"correlation $\\phi_K$\", \n",
    "                        fontsize_factor=1.5, \n",
    "                        figsize=(16, 8))\n",
    "plt.tight_layout()"
   ]
  },
  {
   "cell_type": "markdown",
   "id": "bc5e1ace",
   "metadata": {
    "papermill": {
     "duration": 0.034378,
     "end_time": "2023-10-11T18:18:19.099174",
     "exception": false,
     "start_time": "2023-10-11T18:18:19.064796",
     "status": "completed"
    },
    "tags": []
   },
   "source": [
    "Высокая корреляцция наблюдается у музыкального жанра (music_genre) со столбцами:\n",
    "- loudness\n",
    "- energy\n",
    "- acousticness\n",
    "- dancebility\n",
    "- instrumentalness\n",
    "\n",
    "Низкая корреляция наблюдается со столбцами:\n",
    "- key\n",
    "- duration_ms\n",
    "- liveness\n",
    "- abtained_date"
   ]
  },
  {
   "cell_type": "markdown",
   "id": "486b06ed",
   "metadata": {
    "papermill": {
     "duration": 0.032753,
     "end_time": "2023-10-11T18:18:19.165312",
     "exception": false,
     "start_time": "2023-10-11T18:18:19.132559",
     "status": "completed"
    },
    "tags": []
   },
   "source": [
    "Обработаем столбец duration: удалим слишком большие значения, а слишком маленькие (отрицательные) заполним медианным значением по жанру."
   ]
  },
  {
   "cell_type": "code",
   "execution_count": null,
   "id": "0233dde1",
   "metadata": {
    "execution": {
     "iopub.execute_input": "2023-10-11T18:18:19.233310Z",
     "iopub.status.busy": "2023-10-11T18:18:19.232980Z",
     "iopub.status.idle": "2023-10-11T18:18:19.242268Z",
     "shell.execute_reply": "2023-10-11T18:18:19.241248Z"
    },
    "papermill": {
     "duration": 0.045533,
     "end_time": "2023-10-11T18:18:19.244234",
     "exception": false,
     "start_time": "2023-10-11T18:18:19.198701",
     "status": "completed"
    },
    "tags": []
   },
   "outputs": [],
   "source": [
    "df_train['duration_ms'].quantile(0.975)"
   ]
  },
  {
   "cell_type": "code",
   "execution_count": null,
   "id": "b64ab1d9",
   "metadata": {
    "execution": {
     "iopub.execute_input": "2023-10-11T18:18:19.313440Z",
     "iopub.status.busy": "2023-10-11T18:18:19.312830Z",
     "iopub.status.idle": "2023-10-11T18:18:19.323303Z",
     "shell.execute_reply": "2023-10-11T18:18:19.322614Z"
    },
    "papermill": {
     "duration": 0.047523,
     "end_time": "2023-10-11T18:18:19.325278",
     "exception": false,
     "start_time": "2023-10-11T18:18:19.277755",
     "status": "completed"
    },
    "tags": []
   },
   "outputs": [],
   "source": [
    "df_train = df_train.query('duration_ms < 468939.77499999997')"
   ]
  },
  {
   "cell_type": "code",
   "execution_count": null,
   "id": "760c4ce7",
   "metadata": {
    "execution": {
     "iopub.execute_input": "2023-10-11T18:18:19.395625Z",
     "iopub.status.busy": "2023-10-11T18:18:19.395214Z",
     "iopub.status.idle": "2023-10-11T18:18:19.401470Z",
     "shell.execute_reply": "2023-10-11T18:18:19.400431Z"
    },
    "papermill": {
     "duration": 0.0436,
     "end_time": "2023-10-11T18:18:19.403432",
     "exception": false,
     "start_time": "2023-10-11T18:18:19.359832",
     "status": "completed"
    },
    "tags": []
   },
   "outputs": [],
   "source": [
    "new_df_train = df_train.copy(deep=True)"
   ]
  },
  {
   "cell_type": "code",
   "execution_count": null,
   "id": "6384e747",
   "metadata": {
    "execution": {
     "iopub.execute_input": "2023-10-11T18:18:19.473540Z",
     "iopub.status.busy": "2023-10-11T18:18:19.472390Z",
     "iopub.status.idle": "2023-10-11T18:18:19.478635Z",
     "shell.execute_reply": "2023-10-11T18:18:19.477830Z"
    },
    "papermill": {
     "duration": 0.043844,
     "end_time": "2023-10-11T18:18:19.480606",
     "exception": false,
     "start_time": "2023-10-11T18:18:19.436762",
     "status": "completed"
    },
    "tags": []
   },
   "outputs": [],
   "source": [
    "new_df_train['duration_ms'] = new_df_train['duration_ms'].replace( -1, np.NaN) #сначала заменим отрицательные значения на NaN"
   ]
  },
  {
   "cell_type": "code",
   "execution_count": null,
   "id": "352faabf",
   "metadata": {
    "execution": {
     "iopub.execute_input": "2023-10-11T18:18:19.549796Z",
     "iopub.status.busy": "2023-10-11T18:18:19.548905Z",
     "iopub.status.idle": "2023-10-11T18:18:19.557129Z",
     "shell.execute_reply": "2023-10-11T18:18:19.556427Z"
    },
    "papermill": {
     "duration": 0.045046,
     "end_time": "2023-10-11T18:18:19.559196",
     "exception": false,
     "start_time": "2023-10-11T18:18:19.514150",
     "status": "completed"
    },
    "tags": []
   },
   "outputs": [],
   "source": [
    "new_df_train['duration_ms'] = new_df_train.duration_ms.fillna(new_df_train.groupby('music_genre').duration_ms.transform('median'))"
   ]
  },
  {
   "cell_type": "code",
   "execution_count": null,
   "id": "aba04422",
   "metadata": {
    "execution": {
     "iopub.execute_input": "2023-10-11T18:18:19.627745Z",
     "iopub.status.busy": "2023-10-11T18:18:19.627029Z",
     "iopub.status.idle": "2023-10-11T18:18:19.634204Z",
     "shell.execute_reply": "2023-10-11T18:18:19.633530Z"
    },
    "papermill": {
     "duration": 0.043623,
     "end_time": "2023-10-11T18:18:19.636161",
     "exception": false,
     "start_time": "2023-10-11T18:18:19.592538",
     "status": "completed"
    },
    "tags": []
   },
   "outputs": [],
   "source": [
    "df_test['duration_ms'] = df_test['duration_ms'].replace( -1, np.NaN)\n",
    "df_test['duration_ms'] = df_test['duration_ms'].replace(np.NaN, df_test['duration_ms'].median())"
   ]
  },
  {
   "cell_type": "code",
   "execution_count": null,
   "id": "2675a452",
   "metadata": {
    "execution": {
     "iopub.execute_input": "2023-10-11T18:18:19.706849Z",
     "iopub.status.busy": "2023-10-11T18:18:19.706476Z",
     "iopub.status.idle": "2023-10-11T18:18:19.713974Z",
     "shell.execute_reply": "2023-10-11T18:18:19.713065Z"
    },
    "papermill": {
     "duration": 0.046244,
     "end_time": "2023-10-11T18:18:19.715938",
     "exception": false,
     "start_time": "2023-10-11T18:18:19.669694",
     "status": "completed"
    },
    "tags": []
   },
   "outputs": [],
   "source": [
    "new_df_test = df_test.copy(deep= True)\n",
    "new_df_test['duration_ms'] = new_df_test['duration_ms'].replace( -1, np.NaN)\n",
    "new_df_test['duration_ms'] = new_df_test.duration_ms.fillna(new_df_test['duration_ms'].median())"
   ]
  },
  {
   "cell_type": "markdown",
   "id": "962da0ed",
   "metadata": {
    "papermill": {
     "duration": 0.034068,
     "end_time": "2023-10-11T18:18:19.783481",
     "exception": false,
     "start_time": "2023-10-11T18:18:19.749413",
     "status": "completed"
    },
    "tags": []
   },
   "source": [
    "И в тестовом датасете заменили -1 на медианное значение по жанру."
   ]
  },
  {
   "cell_type": "code",
   "execution_count": null,
   "id": "34f83f29",
   "metadata": {
    "execution": {
     "iopub.execute_input": "2023-10-11T18:18:19.851584Z",
     "iopub.status.busy": "2023-10-11T18:18:19.851212Z",
     "iopub.status.idle": "2023-10-11T18:18:19.860314Z",
     "shell.execute_reply": "2023-10-11T18:18:19.859519Z"
    },
    "papermill": {
     "duration": 0.045355,
     "end_time": "2023-10-11T18:18:19.862141",
     "exception": false,
     "start_time": "2023-10-11T18:18:19.816786",
     "status": "completed"
    },
    "tags": []
   },
   "outputs": [],
   "source": [
    "new_df_test.isna().sum()"
   ]
  },
  {
   "cell_type": "markdown",
   "id": "ccd50a69",
   "metadata": {
    "papermill": {
     "duration": 0.033829,
     "end_time": "2023-10-11T18:18:19.929332",
     "exception": false,
     "start_time": "2023-10-11T18:18:19.895503",
     "status": "completed"
    },
    "tags": []
   },
   "source": [
    "Удалим и из тестового датасета столбец instance_id"
   ]
  },
  {
   "cell_type": "code",
   "execution_count": null,
   "id": "b65bc790",
   "metadata": {
    "execution": {
     "iopub.execute_input": "2023-10-11T18:18:19.999753Z",
     "iopub.status.busy": "2023-10-11T18:18:19.998821Z",
     "iopub.status.idle": "2023-10-11T18:18:20.004870Z",
     "shell.execute_reply": "2023-10-11T18:18:20.004005Z"
    },
    "papermill": {
     "duration": 0.043391,
     "end_time": "2023-10-11T18:18:20.006713",
     "exception": false,
     "start_time": "2023-10-11T18:18:19.963322",
     "status": "completed"
    },
    "tags": []
   },
   "outputs": [],
   "source": [
    "new_df_test = new_df_test.drop(['instance_id'], axis= 1)"
   ]
  },
  {
   "cell_type": "markdown",
   "id": "a81a53db",
   "metadata": {
    "papermill": {
     "duration": 0.033641,
     "end_time": "2023-10-11T18:18:20.074511",
     "exception": false,
     "start_time": "2023-10-11T18:18:20.040870",
     "status": "completed"
    },
    "tags": []
   },
   "source": [
    "Еще раз проверим датасет (уже с удаленным столбцом instance_iop) на наличие дубликатов."
   ]
  },
  {
   "cell_type": "code",
   "execution_count": null,
   "id": "20ddce2e",
   "metadata": {
    "execution": {
     "iopub.execute_input": "2023-10-11T18:18:20.145228Z",
     "iopub.status.busy": "2023-10-11T18:18:20.144171Z",
     "iopub.status.idle": "2023-10-11T18:18:20.166214Z",
     "shell.execute_reply": "2023-10-11T18:18:20.165316Z"
    },
    "papermill": {
     "duration": 0.059603,
     "end_time": "2023-10-11T18:18:20.168129",
     "exception": false,
     "start_time": "2023-10-11T18:18:20.108526",
     "status": "completed"
    },
    "tags": []
   },
   "outputs": [],
   "source": [
    "new_df_train.duplicated().sum()"
   ]
  },
  {
   "cell_type": "markdown",
   "id": "a66b7ab0",
   "metadata": {
    "papermill": {
     "duration": 0.032973,
     "end_time": "2023-10-11T18:18:20.234786",
     "exception": false,
     "start_time": "2023-10-11T18:18:20.201813",
     "status": "completed"
    },
    "tags": []
   },
   "source": [
    "Появился 1 дубликат. Удалим его."
   ]
  },
  {
   "cell_type": "code",
   "execution_count": null,
   "id": "54facaad",
   "metadata": {
    "execution": {
     "iopub.execute_input": "2023-10-11T18:18:20.303761Z",
     "iopub.status.busy": "2023-10-11T18:18:20.302734Z",
     "iopub.status.idle": "2023-10-11T18:18:20.324144Z",
     "shell.execute_reply": "2023-10-11T18:18:20.323010Z"
    },
    "papermill": {
     "duration": 0.058101,
     "end_time": "2023-10-11T18:18:20.326351",
     "exception": false,
     "start_time": "2023-10-11T18:18:20.268250",
     "status": "completed"
    },
    "tags": []
   },
   "outputs": [],
   "source": [
    "new_df_train = new_df_train.drop_duplicates()"
   ]
  },
  {
   "cell_type": "code",
   "execution_count": null,
   "id": "08882a9e",
   "metadata": {
    "execution": {
     "iopub.execute_input": "2023-10-11T18:18:20.396432Z",
     "iopub.status.busy": "2023-10-11T18:18:20.395604Z",
     "iopub.status.idle": "2023-10-11T18:18:20.411653Z",
     "shell.execute_reply": "2023-10-11T18:18:20.410513Z"
    },
    "papermill": {
     "duration": 0.053703,
     "end_time": "2023-10-11T18:18:20.413567",
     "exception": false,
     "start_time": "2023-10-11T18:18:20.359864",
     "status": "completed"
    },
    "tags": []
   },
   "outputs": [],
   "source": [
    "new_df_train.info()"
   ]
  },
  {
   "cell_type": "code",
   "execution_count": null,
   "id": "8b664616",
   "metadata": {
    "execution": {
     "iopub.execute_input": "2023-10-11T18:18:20.483042Z",
     "iopub.status.busy": "2023-10-11T18:18:20.482402Z",
     "iopub.status.idle": "2023-10-11T18:18:20.508605Z",
     "shell.execute_reply": "2023-10-11T18:18:20.507581Z"
    },
    "papermill": {
     "duration": 0.063607,
     "end_time": "2023-10-11T18:18:20.510510",
     "exception": false,
     "start_time": "2023-10-11T18:18:20.446903",
     "status": "completed"
    },
    "tags": []
   },
   "outputs": [],
   "source": [
    "new_df_train"
   ]
  },
  {
   "cell_type": "markdown",
   "id": "995386bf",
   "metadata": {
    "papermill": {
     "duration": 0.034587,
     "end_time": "2023-10-11T18:18:20.579108",
     "exception": false,
     "start_time": "2023-10-11T18:18:20.544521",
     "status": "completed"
    },
    "tags": []
   },
   "source": [
    "**Подготовка данных к обучению модели**"
   ]
  },
  {
   "cell_type": "markdown",
   "id": "cd76ea16",
   "metadata": {
    "papermill": {
     "duration": 0.034539,
     "end_time": "2023-10-11T18:18:20.648338",
     "exception": false,
     "start_time": "2023-10-11T18:18:20.613799",
     "status": "completed"
    },
    "tags": []
   },
   "source": [
    "**Pipeline**"
   ]
  },
  {
   "cell_type": "code",
   "execution_count": null,
   "id": "98d4286e",
   "metadata": {
    "execution": {
     "iopub.execute_input": "2023-10-11T18:18:20.721164Z",
     "iopub.status.busy": "2023-10-11T18:18:20.720487Z",
     "iopub.status.idle": "2023-10-11T18:18:20.752985Z",
     "shell.execute_reply": "2023-10-11T18:18:20.752197Z"
    },
    "papermill": {
     "duration": 0.07082,
     "end_time": "2023-10-11T18:18:20.755090",
     "exception": false,
     "start_time": "2023-10-11T18:18:20.684270",
     "status": "completed"
    },
    "tags": []
   },
   "outputs": [],
   "source": [
    "X = new_df_train.drop('music_genre', axis=1)\n",
    "y = new_df_train['music_genre']\n",
    "X_train, X_test, y_train, y_test = train_test_split(X, y, test_size=0.2, stratify=y)\n",
    "cat_cols = X.select_dtypes(exclude='number').columns.tolist()\n",
    "num_cols = X.select_dtypes(include='number').columns.tolist()\n",
    "\n",
    "num_pipeline = Pipeline(steps=[\n",
    "    ('impute', IterativeImputer(max_iter=10, random_state=42)),\n",
    "    ('scale', RobustScaler()),\n",
    "    ('drop_correlated_features', DropCorrelatedFeatures(threshold=0.8)),\n",
    "    ('polynomial_features', PolynomialFeatures(degree=2)),\n",
    "    ('drop_constant_features', DropConstantFeatures(tol=0.998))\n",
    "])\n",
    "\n",
    "cat_pipeline = Pipeline(steps=[\n",
    "    ('impute', SimpleImputer(strategy='most_frequent')),\n",
    "    ('encode', OrdinalEncoder(handle_unknown='use_encoded_value', unknown_value=-1))\n",
    "])\n",
    "\n",
    "col_trans = ColumnTransformer(transformers=[\n",
    "    ('num_pipeline', num_pipeline, num_cols),\n",
    "    ('cat_pipeline', cat_pipeline, cat_cols)\n",
    "], remainder='passthrough')"
   ]
  },
  {
   "cell_type": "markdown",
   "id": "e6fcefab",
   "metadata": {
    "papermill": {
     "duration": 0.034799,
     "end_time": "2023-10-11T18:18:20.824612",
     "exception": false,
     "start_time": "2023-10-11T18:18:20.789813",
     "status": "completed"
    },
    "tags": []
   },
   "source": [
    "Этапы пайплайна для числовых данных (num_pipeline):\n",
    "\n",
    "-  IterativeImputer (итеративное заполнение пропущенных значений) для числовых признаков. Этот метод использует информацию из других признаков для заполнения пропущенных значений.\n",
    "-  RobustScaler для масштабирования числовых признаков, чтобы сделать их более устойчивыми к выбросам.\n",
    "-  DropCorrelatedFeatures для удаления высококоррелированных признаков. Этот шаг может улучшить производительность модели, так как высокая корреляция между признаками может привести к мультиколлинеарности.\n",
    "-  PolynomialFeatures для добавления полиномиальных признаков второй степени. Это может помочь захватить нелинейные зависимости между признаками.\n",
    "-  DropConstantFeatures для удаления признаков с почти постоянными значениями. Эти признаки не несут полезной информации и могут замедлить обучение модели.\n",
    "\n",
    "Этапы пайплайна для категориальных данных (num_pipeline):\n",
    "\n",
    "-  SimpleImputer импутация (восстановление) пропущенных значений для категориальных признаков. В данном случае, для замены пропущенных значений используется наиболее часто встречающееся значение в каждом признаке.\n",
    "-  OrdinalEncoder для кодирования категориальных признаков целыми числами. Этот метод преобразует уникальные значения категориальных признаков в числовые значения, сохраняя порядок между значениями."
   ]
  },
  {
   "cell_type": "markdown",
   "id": "d750b727",
   "metadata": {
    "papermill": {
     "duration": 0.035217,
     "end_time": "2023-10-11T18:18:20.894574",
     "exception": false,
     "start_time": "2023-10-11T18:18:20.859357",
     "status": "completed"
    },
    "tags": []
   },
   "source": [
    "**RandomizedSearchCV fitting**"
   ]
  },
  {
   "cell_type": "markdown",
   "id": "75574271",
   "metadata": {
    "papermill": {
     "duration": 0.033376,
     "end_time": "2023-10-11T18:18:20.961886",
     "exception": false,
     "start_time": "2023-10-11T18:18:20.928510",
     "status": "completed"
    },
    "tags": []
   },
   "source": [
    "RandomizedSearchCV fitting проводился на облачном железе, поэтому код закомментирован."
   ]
  },
  {
   "cell_type": "code",
   "execution_count": null,
   "id": "b6e3b19d",
   "metadata": {
    "execution": {
     "iopub.execute_input": "2023-10-11T18:18:21.034164Z",
     "iopub.status.busy": "2023-10-11T18:18:21.033507Z",
     "iopub.status.idle": "2023-10-11T18:18:21.038195Z",
     "shell.execute_reply": "2023-10-11T18:18:21.037524Z"
    },
    "papermill": {
     "duration": 0.044122,
     "end_time": "2023-10-11T18:18:21.039939",
     "exception": false,
     "start_time": "2023-10-11T18:18:20.995817",
     "status": "completed"
    },
    "tags": []
   },
   "outputs": [],
   "source": [
    "# # Создание модели CatBoostClassifier с поддержкой GPU\n",
    "# clf = CatBoostClassifier(\n",
    "#     task_type='GPU',\n",
    "#     eval_metric='TotalF1'\n",
    "# )\n",
    "\n",
    "# # Определение Pipeline с шагами предобработки и моделью\n",
    "# pipeline = Pipeline(steps=[\n",
    "#     ('col_trans', col_trans),\n",
    "#     ('model', clf)\n",
    "# ])\n",
    "\n",
    "# # Определение параметров для подбора гиперпараметров\n",
    "# params = {\n",
    "#     'model__depth': [4, 6, 8, 10],\n",
    "#     'model__learning_rate': [0.01, 0.05, 0.1, 0.2],\n",
    "#     'model__l2_leaf_reg': [1, 3, 5, 7],\n",
    "#     'model__iterations': [100, 200, 300, 500],\n",
    "#     'model__border_count': [5, 10, 20],\n",
    "#     'model__thread_count': [4],\n",
    "#     'model__early_stopping_rounds': [10],\n",
    "#     'model__bootstrap_type': ['Bayesian', 'Bernoulli', 'MVS'],\n",
    "#     'model__random_strength': [0.01, 0.1, 1],\n",
    "#     'model__max_ctr_complexity': [1, 2, 3]\n",
    "# }\n",
    "\n",
    "# # Создание RandomizedSearchCV\n",
    "# grid = RandomizedSearchCV(pipeline,\n",
    "#                           params,\n",
    "#                           n_iter=50,\n",
    "#                           cv=3,\n",
    "#                           verbose=5,\n",
    "#                           random_state=42,\n",
    "#                           scoring='f1_micro',\n",
    "#                           n_jobs=None)\n",
    "\n",
    "# # Подгонка модели\n",
    "# grid.fit(X_train, y_train)\n",
    "\n",
    "# # Вывод лучших параметров и результатов\n",
    "# print(\"Best Parameters:\", grid.best_params_)\n",
    "# print(\"Best F1 Micro Score:\", grid.best_score_)"
   ]
  },
  {
   "cell_type": "markdown",
   "id": "9795f916",
   "metadata": {
    "papermill": {
     "duration": 0.034513,
     "end_time": "2023-10-11T18:18:21.109107",
     "exception": false,
     "start_time": "2023-10-11T18:18:21.074594",
     "status": "completed"
    },
    "tags": []
   },
   "source": [
    "Оказалось, что лучшими параметрами модели CatBoostClassifier являются:\n",
    "\n",
    "'model__depth': 4\n",
    "\n",
    "'model__learning_rate': 0.1\n",
    "\n",
    "'model__l2_leaf_reg': 1\n",
    "\n",
    "'model__iterations': 300\n",
    "\n",
    "'model__border_count': 10\n",
    "\n",
    "'model__thread_count': 4\n",
    "\n",
    "'model__early_stopping_rounds': 10\n",
    "\n",
    "'model__bootstrap_type': 'Bayesian'\n",
    "\n",
    "'model__random_strength':  1\n",
    "\n",
    "'model__max_ctr_complexity': 1\n",
    "\n",
    "Best F1 Micro Score: 0.46"
   ]
  },
  {
   "cell_type": "code",
   "execution_count": null,
   "id": "489f13d8",
   "metadata": {
    "execution": {
     "iopub.execute_input": "2023-10-11T18:18:21.179510Z",
     "iopub.status.busy": "2023-10-11T18:18:21.178857Z",
     "iopub.status.idle": "2023-10-11T18:18:21.182863Z",
     "shell.execute_reply": "2023-10-11T18:18:21.182120Z"
    },
    "papermill": {
     "duration": 0.041498,
     "end_time": "2023-10-11T18:18:21.184493",
     "exception": false,
     "start_time": "2023-10-11T18:18:21.142995",
     "status": "completed"
    },
    "tags": []
   },
   "outputs": [],
   "source": [
    "## Логистическая регрессия\n",
    "# lr = LogisticRegression(tol=0.01)\n",
    "\n",
    "# pipeline = Pipeline(steps=[\n",
    "#     ('col_trans', col_trans),\n",
    "#     ('model', lr)\n",
    "# ])\n",
    "\n",
    "# param_dist = {\n",
    "#     'model__C': np.logspace(-3, 3, 7),\n",
    "#     'model__penalty': ['l1', 'l2'],\n",
    "#     'model__solver': ['liblinear', 'saga']\n",
    "# }\n",
    "\n",
    "# grid = RandomizedSearchCV(pipeline,\n",
    "#                     param_dist,\n",
    "#                     n_iter=30,\n",
    "#                     cv=5,\n",
    "#                     verbose=5,\n",
    "#                     random_state=42,\n",
    "#                     scoring='f1_micro',\n",
    "#                     n_jobs=-1)"
   ]
  },
  {
   "cell_type": "code",
   "execution_count": null,
   "id": "bd72ed18",
   "metadata": {
    "execution": {
     "iopub.execute_input": "2023-10-11T18:18:21.254397Z",
     "iopub.status.busy": "2023-10-11T18:18:21.253414Z",
     "iopub.status.idle": "2023-10-11T18:18:21.258108Z",
     "shell.execute_reply": "2023-10-11T18:18:21.257206Z"
    },
    "papermill": {
     "duration": 0.041863,
     "end_time": "2023-10-11T18:18:21.260161",
     "exception": false,
     "start_time": "2023-10-11T18:18:21.218298",
     "status": "completed"
    },
    "tags": []
   },
   "outputs": [],
   "source": [
    "# %%time\n",
    "# grid.fit(X_train, y_train)"
   ]
  },
  {
   "cell_type": "code",
   "execution_count": null,
   "id": "2c133a95",
   "metadata": {
    "execution": {
     "iopub.execute_input": "2023-10-11T18:18:21.333306Z",
     "iopub.status.busy": "2023-10-11T18:18:21.332692Z",
     "iopub.status.idle": "2023-10-11T18:18:21.336014Z",
     "shell.execute_reply": "2023-10-11T18:18:21.335391Z"
    },
    "papermill": {
     "duration": 0.042853,
     "end_time": "2023-10-11T18:18:21.337897",
     "exception": false,
     "start_time": "2023-10-11T18:18:21.295044",
     "status": "completed"
    },
    "tags": []
   },
   "outputs": [],
   "source": [
    "# grid.best_params_"
   ]
  },
  {
   "cell_type": "code",
   "execution_count": null,
   "id": "83ecfb95",
   "metadata": {
    "execution": {
     "iopub.execute_input": "2023-10-11T18:18:21.409508Z",
     "iopub.status.busy": "2023-10-11T18:18:21.408858Z",
     "iopub.status.idle": "2023-10-11T18:18:21.412199Z",
     "shell.execute_reply": "2023-10-11T18:18:21.411540Z"
    },
    "papermill": {
     "duration": 0.041714,
     "end_time": "2023-10-11T18:18:21.413972",
     "exception": false,
     "start_time": "2023-10-11T18:18:21.372258",
     "status": "completed"
    },
    "tags": []
   },
   "outputs": [],
   "source": [
    "# predicted = grid.predict(X_test)\n",
    "# f1_score(y_test, predicted, average='micro').round(2)"
   ]
  },
  {
   "cell_type": "markdown",
   "id": "01f577a5",
   "metadata": {
    "papermill": {
     "duration": 0.034669,
     "end_time": "2023-10-11T18:18:21.482749",
     "exception": false,
     "start_time": "2023-10-11T18:18:21.448080",
     "status": "completed"
    },
    "tags": []
   },
   "source": [
    "Лучшими параметрами для модели Логистическая регрессия являются:\n",
    "\n",
    "'model__C': 0.1\n",
    "\n",
    "'model__penalty': 'l1'\n",
    "\n",
    "'model__solver': 'liblinear'\n",
    "\n",
    "Best F1 Micro Score: 0.43"
   ]
  },
  {
   "cell_type": "code",
   "execution_count": null,
   "id": "f737d3a0",
   "metadata": {
    "execution": {
     "iopub.execute_input": "2023-10-11T18:18:21.555593Z",
     "iopub.status.busy": "2023-10-11T18:18:21.554925Z",
     "iopub.status.idle": "2023-10-11T18:18:21.558869Z",
     "shell.execute_reply": "2023-10-11T18:18:21.558057Z"
    },
    "papermill": {
     "duration": 0.042634,
     "end_time": "2023-10-11T18:18:21.560535",
     "exception": false,
     "start_time": "2023-10-11T18:18:21.517901",
     "status": "completed"
    },
    "tags": []
   },
   "outputs": [],
   "source": [
    "## Случайный лес\n",
    "# rfc = RandomForestClassifier()\n",
    "\n",
    "# pipeline = Pipeline(steps=[\n",
    "#     ('pipeline', col_trans),\n",
    "#     ('model', rfc)\n",
    "# ])\n",
    "\n",
    "# param_dist = {\n",
    "#     'model__n_estimators': [100, 200, 300],\n",
    "#     'model__max_depth': [None, 5, 10]\n",
    "# }\n",
    "\n",
    "# grid = RandomizedSearchCV(pipeline,\n",
    "#                     param_dist,\n",
    "#                     n_iter=30,\n",
    "#                     cv=5,\n",
    "#                     verbose=5,\n",
    "#                     random_state=42,\n",
    "#                     scoring='f1_micro',\n",
    "#                     n_jobs=-1)"
   ]
  },
  {
   "cell_type": "code",
   "execution_count": null,
   "id": "18dc7620",
   "metadata": {
    "execution": {
     "iopub.execute_input": "2023-10-11T18:18:21.632030Z",
     "iopub.status.busy": "2023-10-11T18:18:21.631089Z",
     "iopub.status.idle": "2023-10-11T18:18:21.635144Z",
     "shell.execute_reply": "2023-10-11T18:18:21.634303Z"
    },
    "papermill": {
     "duration": 0.042248,
     "end_time": "2023-10-11T18:18:21.636913",
     "exception": false,
     "start_time": "2023-10-11T18:18:21.594665",
     "status": "completed"
    },
    "tags": []
   },
   "outputs": [],
   "source": [
    "# %%time\n",
    "# grid.fit(X_train, y_train)"
   ]
  },
  {
   "cell_type": "code",
   "execution_count": null,
   "id": "162e802a",
   "metadata": {
    "execution": {
     "iopub.execute_input": "2023-10-11T18:18:21.708183Z",
     "iopub.status.busy": "2023-10-11T18:18:21.707828Z",
     "iopub.status.idle": "2023-10-11T18:18:21.711927Z",
     "shell.execute_reply": "2023-10-11T18:18:21.710974Z"
    },
    "papermill": {
     "duration": 0.042848,
     "end_time": "2023-10-11T18:18:21.713758",
     "exception": false,
     "start_time": "2023-10-11T18:18:21.670910",
     "status": "completed"
    },
    "tags": []
   },
   "outputs": [],
   "source": [
    "# grid.best_params_"
   ]
  },
  {
   "cell_type": "code",
   "execution_count": null,
   "id": "5496f308",
   "metadata": {
    "execution": {
     "iopub.execute_input": "2023-10-11T18:18:21.784764Z",
     "iopub.status.busy": "2023-10-11T18:18:21.784185Z",
     "iopub.status.idle": "2023-10-11T18:18:21.788205Z",
     "shell.execute_reply": "2023-10-11T18:18:21.787529Z"
    },
    "papermill": {
     "duration": 0.042138,
     "end_time": "2023-10-11T18:18:21.789952",
     "exception": false,
     "start_time": "2023-10-11T18:18:21.747814",
     "status": "completed"
    },
    "tags": []
   },
   "outputs": [],
   "source": [
    "# predicted = grid.predict(X_test)\n",
    "# f1_score(y_test, predicted, average='micro').round(2)"
   ]
  },
  {
   "cell_type": "markdown",
   "id": "14723b87",
   "metadata": {
    "papermill": {
     "duration": 0.034401,
     "end_time": "2023-10-11T18:18:21.858340",
     "exception": false,
     "start_time": "2023-10-11T18:18:21.823939",
     "status": "completed"
    },
    "tags": []
   },
   "source": [
    "Лучшими гиперпараметрами для модели Случайный лес являются:\n",
    "\n",
    "'model__n_estimators': 300, \n",
    "\n",
    "'model__max_depth': 10\n",
    "\n",
    "Best F1 Micro Score: 0.44"
   ]
  },
  {
   "cell_type": "code",
   "execution_count": null,
   "id": "2d4f088f",
   "metadata": {
    "execution": {
     "iopub.execute_input": "2023-10-11T18:18:21.929890Z",
     "iopub.status.busy": "2023-10-11T18:18:21.929286Z",
     "iopub.status.idle": "2023-10-11T18:18:21.933917Z",
     "shell.execute_reply": "2023-10-11T18:18:21.932949Z"
    },
    "papermill": {
     "duration": 0.042378,
     "end_time": "2023-10-11T18:18:21.935725",
     "exception": false,
     "start_time": "2023-10-11T18:18:21.893347",
     "status": "completed"
    },
    "tags": []
   },
   "outputs": [],
   "source": [
    "# mlpc = MLPClassifier()\n",
    "\n",
    "# pipeline = Pipeline(steps=[\n",
    "#     ('pipeline', col_trans),\n",
    "#     ('model', mlpc)\n",
    "# ])\n",
    "\n",
    "# param_dist = {\n",
    "#     'model__hidden_layer_sizes': [(100,), (200,), (300,)],\n",
    "#     'model__activation': ['relu', 'tanh', 'logistic'],\n",
    "#     'model__alpha': [0.0001, 0.001, 0.01]\n",
    "# }\n",
    "\n",
    "# grid = RandomizedSearchCV(pipeline,\n",
    "#                     param_dist,\n",
    "#                     n_iter=30,\n",
    "#                     cv=5,\n",
    "#                     verbose=5,\n",
    "#                     random_state=42,\n",
    "#                     scoring='f1_micro',\n",
    "#                     n_jobs=-1)"
   ]
  },
  {
   "cell_type": "code",
   "execution_count": null,
   "id": "440106db",
   "metadata": {
    "execution": {
     "iopub.execute_input": "2023-10-11T18:18:22.006710Z",
     "iopub.status.busy": "2023-10-11T18:18:22.006324Z",
     "iopub.status.idle": "2023-10-11T18:18:22.009766Z",
     "shell.execute_reply": "2023-10-11T18:18:22.009034Z"
    },
    "papermill": {
     "duration": 0.041941,
     "end_time": "2023-10-11T18:18:22.011519",
     "exception": false,
     "start_time": "2023-10-11T18:18:21.969578",
     "status": "completed"
    },
    "tags": []
   },
   "outputs": [],
   "source": [
    "# %%time\n",
    "# grid.fit(X_train, y_train)"
   ]
  },
  {
   "cell_type": "code",
   "execution_count": null,
   "id": "41b3f307",
   "metadata": {
    "execution": {
     "iopub.execute_input": "2023-10-11T18:18:22.081941Z",
     "iopub.status.busy": "2023-10-11T18:18:22.081586Z",
     "iopub.status.idle": "2023-10-11T18:18:22.085620Z",
     "shell.execute_reply": "2023-10-11T18:18:22.084649Z"
    },
    "papermill": {
     "duration": 0.04213,
     "end_time": "2023-10-11T18:18:22.087508",
     "exception": false,
     "start_time": "2023-10-11T18:18:22.045378",
     "status": "completed"
    },
    "tags": []
   },
   "outputs": [],
   "source": [
    "# grid.best_params_"
   ]
  },
  {
   "cell_type": "code",
   "execution_count": null,
   "id": "d53630a1",
   "metadata": {
    "execution": {
     "iopub.execute_input": "2023-10-11T18:18:22.159806Z",
     "iopub.status.busy": "2023-10-11T18:18:22.158153Z",
     "iopub.status.idle": "2023-10-11T18:18:22.163218Z",
     "shell.execute_reply": "2023-10-11T18:18:22.162542Z"
    },
    "papermill": {
     "duration": 0.043164,
     "end_time": "2023-10-11T18:18:22.165000",
     "exception": false,
     "start_time": "2023-10-11T18:18:22.121836",
     "status": "completed"
    },
    "tags": []
   },
   "outputs": [],
   "source": [
    "# predicted = grid.predict(X_test)\n",
    "# f1_score(y_test, predicted, average='micro').round(2)"
   ]
  },
  {
   "cell_type": "markdown",
   "id": "59b42d6d",
   "metadata": {
    "papermill": {
     "duration": 0.034668,
     "end_time": "2023-10-11T18:18:22.233719",
     "exception": false,
     "start_time": "2023-10-11T18:18:22.199051",
     "status": "completed"
    },
    "tags": []
   },
   "source": [
    "Лучшими гиперпараметрами для модели MLPClassifier являются:\n",
    "\n",
    "'model__hidden_layer_sizes': (100,)\n",
    "\n",
    "'model__activation': 'logistic'\n",
    "\n",
    "'model__alpha': 0.01\n",
    "\n",
    "Best F1 Micro Score: 0.30"
   ]
  },
  {
   "cell_type": "markdown",
   "id": "113a2a45",
   "metadata": {
    "papermill": {
     "duration": 0.033251,
     "end_time": "2023-10-11T18:18:22.301193",
     "exception": false,
     "start_time": "2023-10-11T18:18:22.267942",
     "status": "completed"
    },
    "tags": []
   },
   "source": [
    "Выводы по RandomizedSearchCV fitting\n",
    "\n",
    "F1 Micro для моделей в порядке убывания:\n",
    "\n",
    "-  CatBoostClassifier: 0.46\n",
    "-  LogisticRegression: 0.43\n",
    "-  RandomForestClassifier: 0.44\n",
    "-  MLPClassifier: 0.30"
   ]
  },
  {
   "cell_type": "markdown",
   "id": "4e942131",
   "metadata": {
    "papermill": {
     "duration": 0.033508,
     "end_time": "2023-10-11T18:18:22.368318",
     "exception": false,
     "start_time": "2023-10-11T18:18:22.334810",
     "status": "completed"
    },
    "tags": []
   },
   "source": [
    "**PipeLine prediction**"
   ]
  },
  {
   "cell_type": "code",
   "execution_count": null,
   "id": "c1f89bb4",
   "metadata": {
    "execution": {
     "iopub.execute_input": "2023-10-11T18:18:22.437997Z",
     "iopub.status.busy": "2023-10-11T18:18:22.437667Z",
     "iopub.status.idle": "2023-10-11T18:18:29.483642Z",
     "shell.execute_reply": "2023-10-11T18:18:29.482507Z"
    },
    "papermill": {
     "duration": 7.08346,
     "end_time": "2023-10-11T18:18:29.485758",
     "exception": false,
     "start_time": "2023-10-11T18:18:22.402298",
     "status": "completed"
    },
    "tags": []
   },
   "outputs": [],
   "source": [
    "cbc = CatBoostClassifier(\n",
    "    thread_count=4,\n",
    "    random_strength=1,\n",
    "    max_ctr_complexity=1,\n",
    "    learning_rate=0.1,\n",
    "    l2_leaf_reg=1,\n",
    "    iterations=300,\n",
    "    early_stopping_rounds=10,\n",
    "    depth=4,\n",
    "    border_count=10,\n",
    "    bootstrap_type='Bayesian'\n",
    ")\n",
    "\n",
    "cbc_pipeline = Pipeline(steps=[\n",
    "    ('col_trans', col_trans),\n",
    "    ('model', cbc)\n",
    "])\n",
    "\n",
    "cbc_pipeline.fit(X_train, y_train)\n",
    "y_pred = cbc_pipeline.predict(X_test)\n",
    "\n",
    "print('f1_micro =', f1_score(y_test, y_pred, average='micro').round(2))\n",
    "\n",
    "set_config(display='diagram')"
   ]
  },
  {
   "cell_type": "code",
   "execution_count": null,
   "id": "ba1d2a06",
   "metadata": {
    "execution": {
     "iopub.execute_input": "2023-10-11T18:18:29.561163Z",
     "iopub.status.busy": "2023-10-11T18:18:29.560835Z",
     "iopub.status.idle": "2023-10-11T18:18:30.978710Z",
     "shell.execute_reply": "2023-10-11T18:18:30.977361Z"
    },
    "papermill": {
     "duration": 1.459501,
     "end_time": "2023-10-11T18:18:30.982334",
     "exception": false,
     "start_time": "2023-10-11T18:18:29.522833",
     "status": "completed"
    },
    "tags": []
   },
   "outputs": [],
   "source": [
    "lr = LogisticRegression(tol=0.01, solver='liblinear', penalty='l1', C=0.1)\n",
    "lr_pipeline = Pipeline(steps=[\n",
    "    ('col_trans', col_trans),\n",
    "    ('model', lr)\n",
    "])\n",
    "\n",
    "lr_pipeline.fit(X_train, y_train)\n",
    "y_pred = lr_pipeline.predict(X_test)\n",
    "\n",
    "print('f1_micro =', f1_score(y_test, y_pred, average='micro').round(2))"
   ]
  },
  {
   "cell_type": "code",
   "execution_count": null,
   "id": "509cd8b1",
   "metadata": {
    "execution": {
     "iopub.execute_input": "2023-10-11T18:18:31.082748Z",
     "iopub.status.busy": "2023-10-11T18:18:31.082380Z",
     "iopub.status.idle": "2023-10-11T18:18:57.053801Z",
     "shell.execute_reply": "2023-10-11T18:18:57.052507Z"
    },
    "papermill": {
     "duration": 26.011179,
     "end_time": "2023-10-11T18:18:57.055754",
     "exception": false,
     "start_time": "2023-10-11T18:18:31.044575",
     "status": "completed"
    },
    "tags": []
   },
   "outputs": [],
   "source": [
    "rfc = RandomForestClassifier(n_estimators=300, max_depth=10)\n",
    "\n",
    "rfc_pipeline = Pipeline(steps=[\n",
    "    ('pipeline', col_trans),\n",
    "    ('model', rfc)\n",
    "])\n",
    "\n",
    "rfc_pipeline.fit(X_train, y_train)\n",
    "y_pred = rfc_pipeline.predict(X_test)\n",
    "\n",
    "print('f1_micro =', f1_score(y_test, y_pred, average='micro').round(2))"
   ]
  },
  {
   "cell_type": "code",
   "execution_count": null,
   "id": "b3478bc5",
   "metadata": {
    "execution": {
     "iopub.execute_input": "2023-10-11T18:18:57.129748Z",
     "iopub.status.busy": "2023-10-11T18:18:57.129125Z",
     "iopub.status.idle": "2023-10-11T18:19:10.106262Z",
     "shell.execute_reply": "2023-10-11T18:19:10.104737Z"
    },
    "papermill": {
     "duration": 13.018946,
     "end_time": "2023-10-11T18:19:10.110498",
     "exception": false,
     "start_time": "2023-10-11T18:18:57.091552",
     "status": "completed"
    },
    "tags": []
   },
   "outputs": [],
   "source": [
    "mlpc = MLPClassifier(hidden_layer_sizes=(100,),\n",
    "                    alpha=0.01,\n",
    "                    activation='logistic')\n",
    "\n",
    "mlpc_pipeline = Pipeline(steps=[\n",
    "    ('pipeline', col_trans),\n",
    "    ('model', mlpc)\n",
    "])\n",
    "\n",
    "mlpc_pipeline.fit(X_train, y_train)\n",
    "y_pred = mlpc_pipeline.predict(X_test)\n",
    "\n",
    "print('f1_micro =', f1_score(y_test, y_pred, average='micro').round(2))"
   ]
  },
  {
   "cell_type": "markdown",
   "id": "df06f3cd",
   "metadata": {
    "papermill": {
     "duration": 0.035933,
     "end_time": "2023-10-11T18:19:10.221830",
     "exception": false,
     "start_time": "2023-10-11T18:19:10.185897",
     "status": "completed"
    },
    "tags": []
   },
   "source": [
    "Выводы по Pipeline prediction:\n",
    "\n",
    "F1 Micro для моделей в порядке убывания:\n",
    "\n",
    "-  CatBoostClassifier: 0.48\n",
    "-  LogisticRegression: 0.42\n",
    "-  RandomForestClassifier: 0.45\n",
    "-  MLPClassifier: 0.33"
   ]
  },
  {
   "cell_type": "markdown",
   "id": "6ac06b67",
   "metadata": {
    "papermill": {
     "duration": 0.035859,
     "end_time": "2023-10-11T18:19:10.294215",
     "exception": false,
     "start_time": "2023-10-11T18:19:10.258356",
     "status": "completed"
    },
    "tags": []
   },
   "source": [
    "**Проверка на Тестовом датасете**\n",
    "\n"
   ]
  },
  {
   "cell_type": "markdown",
   "id": "892c05e7",
   "metadata": {
    "papermill": {
     "duration": 0.036058,
     "end_time": "2023-10-11T18:19:10.366254",
     "exception": false,
     "start_time": "2023-10-11T18:19:10.330196",
     "status": "completed"
    },
    "tags": []
   },
   "source": [
    "Лучшей себя показала модель CatBoostClassifier с использованием пайплайна. Именно эту модель используем для проверки на тестовом датасете."
   ]
  },
  {
   "cell_type": "code",
   "execution_count": null,
   "id": "e224d32a",
   "metadata": {
    "execution": {
     "iopub.execute_input": "2023-10-11T18:19:10.440177Z",
     "iopub.status.busy": "2023-10-11T18:19:10.439848Z",
     "iopub.status.idle": "2023-10-11T18:19:10.444076Z",
     "shell.execute_reply": "2023-10-11T18:19:10.443136Z"
    },
    "papermill": {
     "duration": 0.043444,
     "end_time": "2023-10-11T18:19:10.445857",
     "exception": false,
     "start_time": "2023-10-11T18:19:10.402413",
     "status": "completed"
    },
    "tags": []
   },
   "outputs": [],
   "source": [
    "test_clear = df_test"
   ]
  },
  {
   "cell_type": "code",
   "execution_count": null,
   "id": "4a9cb30a",
   "metadata": {
    "execution": {
     "iopub.execute_input": "2023-10-11T18:19:10.519735Z",
     "iopub.status.busy": "2023-10-11T18:19:10.519363Z",
     "iopub.status.idle": "2023-10-11T18:19:10.525613Z",
     "shell.execute_reply": "2023-10-11T18:19:10.524913Z"
    },
    "papermill": {
     "duration": 0.045627,
     "end_time": "2023-10-11T18:19:10.527421",
     "exception": false,
     "start_time": "2023-10-11T18:19:10.481794",
     "status": "completed"
    },
    "tags": []
   },
   "outputs": [],
   "source": [
    "features = new_df_train.drop('music_genre', axis=1)\n",
    "target = new_df_train['music_genre']"
   ]
  },
  {
   "cell_type": "code",
   "execution_count": 13,
   "id": "a8a6ef80",
   "metadata": {
    "execution": {
     "iopub.execute_input": "2023-10-11T18:19:10.602580Z",
     "iopub.status.busy": "2023-10-11T18:19:10.601631Z",
     "iopub.status.idle": "2023-10-11T18:19:18.944389Z",
     "shell.execute_reply": "2023-10-11T18:19:18.943478Z"
    },
    "papermill": {
     "duration": 8.382525,
     "end_time": "2023-10-11T18:19:18.946541",
     "exception": false,
     "start_time": "2023-10-11T18:19:10.564016",
     "status": "completed"
    },
    "tags": []
   },
   "outputs": [
    {
     "ename": "NameError",
     "evalue": "name 'cbc_pipeline' is not defined",
     "output_type": "error",
     "traceback": [
      "\u001b[1;31m---------------------------------------------------------------------------\u001b[0m",
      "\u001b[1;31mNameError\u001b[0m                                 Traceback (most recent call last)",
      "\u001b[1;32m~\\AppData\\Local\\Temp\\ipykernel_2704\\2088986946.py\u001b[0m in \u001b[0;36m<module>\u001b[1;34m\u001b[0m\n\u001b[1;32m----> 1\u001b[1;33m \u001b[0mcbc_pipeline\u001b[0m\u001b[1;33m.\u001b[0m\u001b[0mfit\u001b[0m\u001b[1;33m(\u001b[0m\u001b[0mfeatures\u001b[0m\u001b[1;33m,\u001b[0m \u001b[0mtarget\u001b[0m\u001b[1;33m)\u001b[0m\u001b[1;33m\u001b[0m\u001b[1;33m\u001b[0m\u001b[0m\n\u001b[0m\u001b[0;32m      2\u001b[0m \u001b[0my_pred\u001b[0m \u001b[1;33m=\u001b[0m \u001b[0mcbc_pipeline\u001b[0m\u001b[1;33m.\u001b[0m\u001b[0mpredict\u001b[0m\u001b[1;33m(\u001b[0m\u001b[0mnew_df_test\u001b[0m\u001b[1;33m)\u001b[0m\u001b[1;33m\u001b[0m\u001b[1;33m\u001b[0m\u001b[0m\n\u001b[0;32m      3\u001b[0m \u001b[1;33m\u001b[0m\u001b[0m\n\u001b[0;32m      4\u001b[0m \u001b[0my_pred\u001b[0m \u001b[1;33m=\u001b[0m \u001b[0my_pred\u001b[0m\u001b[1;33m.\u001b[0m\u001b[0mravel\u001b[0m\u001b[1;33m(\u001b[0m\u001b[1;33m)\u001b[0m\u001b[1;33m.\u001b[0m\u001b[0mtolist\u001b[0m\u001b[1;33m(\u001b[0m\u001b[1;33m)\u001b[0m\u001b[1;33m\u001b[0m\u001b[1;33m\u001b[0m\u001b[0m\n\u001b[0;32m      5\u001b[0m \u001b[1;31m# Создадим столбец с предсказаниями\u001b[0m\u001b[1;33m\u001b[0m\u001b[1;33m\u001b[0m\u001b[0m\n",
      "\u001b[1;31mNameError\u001b[0m: name 'cbc_pipeline' is not defined"
     ]
    }
   ],
   "source": [
    "cbc_pipeline.fit(features, target)\n",
    "y_pred = cbc_pipeline.predict(new_df_test)\n",
    "\n",
    "y_pred = y_pred.ravel().tolist()\n",
    "# Создадим столбец с предсказаниями\n",
    "y_pred_series = pd.Series(y_pred, name='music_genre')\n",
    "\n",
    "# Создадим столбец с instance_id\n",
    "instance_id_column = test_clear['instance_id']\n",
    "\n",
    "# Создадим DataFrame из столбцов\n",
    "submit = pd.concat([instance_id_column, y_pred_series], axis=1)\n",
    "\n",
    "# Сохраним DataFrame с предсказаниями в файл\n",
    "submit.to_csv('cbc_pipeline.csv', index=False)"
   ]
  },
  {
   "cell_type": "code",
   "execution_count": null,
   "id": "daea1de0",
   "metadata": {
    "execution": {
     "iopub.execute_input": "2023-10-11T18:19:19.023862Z",
     "iopub.status.busy": "2023-10-11T18:19:19.022776Z",
     "iopub.status.idle": "2023-10-11T18:19:19.031030Z",
     "shell.execute_reply": "2023-10-11T18:19:19.029950Z"
    },
    "papermill": {
     "duration": 0.049127,
     "end_time": "2023-10-11T18:19:19.033250",
     "exception": false,
     "start_time": "2023-10-11T18:19:18.984123",
     "status": "completed"
    },
    "tags": []
   },
   "outputs": [],
   "source": [
    "cbc_pipeline = pd.read_csv('cbc_pipeline.csv')"
   ]
  },
  {
   "cell_type": "code",
   "execution_count": null,
   "id": "9526843d",
   "metadata": {
    "execution": {
     "iopub.execute_input": "2023-10-11T18:19:19.110497Z",
     "iopub.status.busy": "2023-10-11T18:19:19.109836Z",
     "iopub.status.idle": "2023-10-11T18:19:20.542474Z",
     "shell.execute_reply": "2023-10-11T18:19:20.541349Z"
    },
    "papermill": {
     "duration": 1.474913,
     "end_time": "2023-10-11T18:19:20.545611",
     "exception": false,
     "start_time": "2023-10-11T18:19:19.070698",
     "status": "completed"
    },
    "tags": []
   },
   "outputs": [],
   "source": [
    "!kaggle competitions submit -c unibs-mldm-classification -f cbc_pipeline.csv -m \"Please describe the technique used\""
   ]
  },
  {
   "cell_type": "markdown",
   "id": "6b604e82",
   "metadata": {
    "papermill": {
     "duration": 0.038099,
     "end_time": "2023-10-11T18:19:20.621178",
     "exception": false,
     "start_time": "2023-10-11T18:19:20.583079",
     "status": "completed"
    },
    "tags": []
   },
   "source": [
    "**Выводы**"
   ]
  },
  {
   "cell_type": "markdown",
   "id": "6d57d53b",
   "metadata": {
    "papermill": {
     "duration": 0.039938,
     "end_time": "2023-10-11T18:19:20.698925",
     "exception": false,
     "start_time": "2023-10-11T18:19:20.658987",
     "status": "completed"
    },
    "tags": []
   },
   "source": [
    "Была выполнена проверка на дубликаты, дубликаты не были обнаружены (впоследствии, после удаления ненужного для машинного обучения столбца с уникальным номером трека проверка на дубликаты была выполнена еще раз, в результате 1 дубликат был удален).\n",
    "\n",
    "Датасеты были проверены на пропуски. Тестовый датасет не изменялся, а вот из тренировочного были удалены строки, содержащие пропуски в столбцах key, mode и tempo.\n",
    "\n",
    "Были изучены уникальные значения, содержащиеся в столбцах.\n",
    "\n",
    "Был удален столбец instance_id (и в тестовом, и в тренировочном датасетах), изучено распределение и корреляция между столбцами. В результате было установлено, что в тренировочном датасете в столбцах выбросов довольно мало, а в столбце с продолжительностью встречаются треки, длительностью -1. Это можно объяснить тем, что таким образом в датасете обозначены треки с неизвестной продолжительностью. Эта проблема была решина заполнением отрицательных значений медианным значением по жарну, что было сделано и в тестовом, и в тренировочном датасетах.\n",
    "\n",
    "Высокая корреляция у музыкального жанра с: \n",
    "\n",
    "loudness\n",
    "energy\n",
    "acousticness\n",
    "dancebility\n",
    "instrumentalness\n",
    "\n",
    "А низкая с:\n",
    "\n",
    "key\n",
    "duration_ms\n",
    "liveness\n",
    "abtained_date\n",
    "\n",
    "Далее были реализованы технологии Pipeline и RandomizedSearchCV, в результате чего были установлены лучшие гиперпараметры для моделей и получены следующие результаты:\n",
    "\n",
    "RandomizedSearchCV fitting\n",
    "\n",
    "F1 Micro для моделей в порядке убывания:\n",
    "\n",
    "CatBoostClassifier: 0.46\n",
    "LogisticRegression: 0.43\n",
    "RandomForestClassifier: 0.44\n",
    "MLPClassifier: 0.30\n",
    "\n",
    "Выводы по Pipeline prediction:\n",
    "\n",
    "F1 Micro для моделей в порядке убывания:\n",
    "\n",
    "CatBoostClassifier: 0.48\n",
    "LogisticRegression: 0.42\n",
    "RandomForestClassifier: 0.45\n",
    "MLPClassifier: 0.33\n",
    "\n",
    "Лучшей себя показала модель CatBoostClassifier с использованием пайплайна и именно на этой модели проверялся тестовый датасет. Был создан файл cbc_pipeline, содержащий предсказанные жанры, для проверки на Kaggle."
   ]
  }
 ],
 "metadata": {
  "kernelspec": {
   "display_name": "Python 3 (ipykernel)",
   "language": "python",
   "name": "python3"
  },
  "language_info": {
   "codemirror_mode": {
    "name": "ipython",
    "version": 3
   },
   "file_extension": ".py",
   "mimetype": "text/x-python",
   "name": "python",
   "nbconvert_exporter": "python",
   "pygments_lexer": "ipython3",
   "version": "3.9.13"
  },
  "papermill": {
   "default_parameters": {},
   "duration": 178.980162,
   "end_time": "2023-10-11T18:19:23.358138",
   "environment_variables": {},
   "exception": null,
   "input_path": "__notebook__.ipynb",
   "output_path": "__notebook__.ipynb",
   "parameters": {},
   "start_time": "2023-10-11T18:16:24.377976",
   "version": "2.4.0"
  }
 },
 "nbformat": 4,
 "nbformat_minor": 5
}
